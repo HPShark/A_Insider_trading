{
 "metadata": {
  "language_info": {
   "codemirror_mode": {
    "name": "ipython",
    "version": 3
   },
   "file_extension": ".py",
   "mimetype": "text/x-python",
   "name": "python",
   "nbconvert_exporter": "python",
   "pygments_lexer": "ipython3",
   "version": "3.7.7-final"
  },
  "orig_nbformat": 2,
  "kernelspec": {
   "name": "python3",
   "display_name": "Python 3",
   "language": "python"
  }
 },
 "nbformat": 4,
 "nbformat_minor": 2,
 "cells": [
  {
   "cell_type": "code",
   "execution_count": 1,
   "metadata": {},
   "outputs": [],
   "source": [
    "import pandas as pd\n",
    "import requests\n",
    "from bs4 import BeautifulSoup\n",
    "import time"
   ]
  },
  {
   "cell_type": "code",
   "execution_count": 2,
   "metadata": {},
   "outputs": [],
   "source": [
    "text = pd.read_csv('../data/choose/textlist.csv')\n",
    "listdata = pd.read_csv('../data/choose/100wjb.csv')"
   ]
  },
  {
   "cell_type": "code",
   "execution_count": 3,
   "metadata": {},
   "outputs": [],
   "source": [
    "def is_number(s):\n",
    "    try:\n",
    "        float(s)\n",
    "        return True\n",
    "    except ValueError:\n",
    "        pass\n",
    "    return False"
   ]
  },
  {
   "cell_type": "code",
   "execution_count": 4,
   "metadata": {},
   "outputs": [],
   "source": [
    "def judge_date(str1):\n",
    "    judge = str1.replace('年','')\n",
    "    judge = judge.replace('月','')\n",
    "    if is_number(judge):\n",
    "        ot = str1.replace('年','/')\n",
    "        ot = ot.replace('月','/')\n",
    "        return True,ot\n",
    "    else:\n",
    "        return False,'0'"
   ]
  },
  {
   "cell_type": "code",
   "execution_count": 5,
   "metadata": {},
   "outputs": [],
   "source": [
    "def find_name(str1):\n",
    "    current = str1.find('内幕交易“')\n",
    "    if(current != -1):\n",
    "        str1 = str1[current+5:]\n",
    "        endcur = str1.find('”')\n",
    "        str1 = str1[0:endcur]\n",
    "        return str1"
   ]
  },
  {
   "cell_type": "code",
   "execution_count": 14,
   "metadata": {},
   "outputs": [],
   "source": [
    "def find_date2(str1):\n",
    "    current = str1.find('于')\n",
    "    if(current != -1):\n",
    "        endcur = str1[current:].find('日')\n",
    "        str1 = str1[current+1:current+endcur]\n",
    "        flag,date = judge_date(str1)\n",
    "    else:\n",
    "        date = '0'\n",
    "    return date\n",
    "\n",
    "def find_date1(str1):\n",
    "    current = str1.find('不晚于')\n",
    "    if(current != -1):\n",
    "        str2 = str1[current:]\n",
    "        endcur = str1[current:].find('日')\n",
    "        str1 = str1[current+3:current+endcur]\n",
    "        flag,date = judge_date(str1)\n",
    "        if(flag):\n",
    "            date2 = find_date2(str2[3:current+endcur+30])\n",
    "            if (date2 == '0'):\n",
    "                return find_date1(str2[3:])\n",
    "            else:\n",
    "                return date,date2\n",
    "        else:\n",
    "            return find_date1(str2[3:])\n",
    "    else:\n",
    "        return '没有不晚','0'\n"
   ]
  },
  {
   "cell_type": "code",
   "execution_count": 14,
   "metadata": {},
   "outputs": [],
   "source": [
    "a= find_date1(text['0'][29])"
   ]
  },
  {
   "cell_type": "code",
   "execution_count": 15,
   "metadata": {},
   "outputs": [
    {
     "output_type": "execute_result",
     "data": {
      "text/plain": [
       "('2018/3/13', '6/6')"
      ]
     },
     "metadata": {},
     "execution_count": 15
    }
   ],
   "source": [
    "a"
   ]
  },
  {
   "cell_type": "code",
   "execution_count": 8,
   "metadata": {},
   "outputs": [
    {
     "output_type": "execute_result",
     "data": {
      "text/plain": [
       "'九洲药业'"
      ]
     },
     "metadata": {},
     "execution_count": 8
    }
   ],
   "source": [
    "find_name(text['0'][29])"
   ]
  },
  {
   "cell_type": "code",
   "execution_count": 15,
   "metadata": {},
   "outputs": [
    {
     "output_type": "stream",
     "name": "stdout",
     "text": [
      "16/5/3 2016/7/22 None\n16/5/16 2016/6/20 盛洋科技\n18/2/5 2018/2/5 新纶科技\n15/3/14 4/4 健康元\n18/8/18 2016/8/19 None\n17/6/12 2016/12/28 青龙管业\n没有不晚 0 None\n17/11/25 2017/11/25 None\n没有不晚 0 中天能源\n13/2/21 2013/8/14 None\n14/12/8 2015/3/28 鼎立股份\n14/12/2 2015/4/10 阳普医疗\n16/3/30 2016/7/7 华泰股份\n14/1/22 2014/2/7 None\n19/3/26 11/3 瑞和股份\n19/3/26 11/3 瑞和股份\n16/4/1 2016/6/28 科融环境\n/28 2016/1/6 银禧科技\n/28 2016/1/6 银禧科技\n14/12/5 2015/1/21 海翔药业\n没有不晚 0 None\n14/4/15 2014/8/27 太阳纸业\n13/11/13 2013/11/13 None\n15/7/10 10/28 新日恒力\n没有不晚 0 赛轮金宇\n15/5/29 2015/7/20 万业企业\n10 2015/12/24 天成控股\n没有不晚 0 花王股份\n14/5/16 5/19 None\n没有不晚 0 文山电力\n14/12/5 2015/1/21 海翔药业\n没有不晚 0 吉林森工\n16/5/13 2016/2/24 海南瑞泽\n14/9/26 2016/11/23 山东墨龙\n没有不晚 0 恒康医疗\n没有不晚 0 恒康医疗\n15/4/7 2015/4/7 东方电缆\n12/10/22 2013/1/22 中科英华\n12/10/22 2013/1/22 中科英华\n没有不晚 0 None\n没有不晚 0 None\n13/11/20 2013/11/20 益盛药业\n14/12/22 2015/1/31 None\n14/9/11 2015/5/14 远望谷\n没有不晚 0 None\n09/9/29 2010/9/27 None\n没有不晚 0 江泉实业\n没有不晚 0 None\n没有不晚 0 None\n没有不晚 0 None\n12/12/25 2013/1/4 None\n没有不晚 0 None\n没有不晚 0 None\n没有不晚 0 威华股份\n没有不晚 0 威华股份\n13/12/19 2014/5/21 平潭发展\n13/12/19 2014/5/21 平潭发展\n13/8/8 2013/9/12 申华控股\n没有不晚 0 中钢吉炭\n14/10/30 2014/9/9 None\n14/11/25 2015/5/9 None\n14/8/6 9/23 None\n没有不晚 0 None\n14/2/13 2014/3/15 None\n没有不晚 0 任子行\n没有不晚 0 世荣兆业\n没有不晚 0 炬华科技\n10/8/11 2010/9/10 None\n12/8/15 2012/8/16 SST华新\n没有不晚 0 None\n10/11/17 2010/12/28 ST甘化\n没有不晚 0 None\n11/11/18 2012/1/5 ST宝龙\n没有不晚 0 None\n没有不晚 0 None\n没有不晚 0 None\n07/7/27 2012/1/17 None\n没有不晚 0 None\n没有不晚 0 None\n"
     ]
    }
   ],
   "source": [
    "for i in listdata['0']:\n",
    "    d1,d2 = find_date1(text['0'][i])\n",
    "    nn = find_name(text['0'][i])\n",
    "    print(d1,d2,nn)"
   ]
  },
  {
   "cell_type": "code",
   "execution_count": null,
   "metadata": {},
   "outputs": [],
   "source": []
  }
 ]
}