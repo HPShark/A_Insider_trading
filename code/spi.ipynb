{
 "metadata": {
  "language_info": {
   "codemirror_mode": {
    "name": "ipython",
    "version": 3
   },
   "file_extension": ".py",
   "mimetype": "text/x-python",
   "name": "python",
   "nbconvert_exporter": "python",
   "pygments_lexer": "ipython3",
   "version": "3.7.7-final"
  },
  "orig_nbformat": 2,
  "kernelspec": {
   "name": "python3",
   "display_name": "Python 3",
   "language": "python"
  }
 },
 "nbformat": 4,
 "nbformat_minor": 2,
 "cells": [
  {
   "cell_type": "code",
   "execution_count": 1,
   "metadata": {},
   "outputs": [],
   "source": [
    "import pandas as pd\n",
    "import requests\n",
    "from bs4 import BeautifulSoup"
   ]
  },
  {
   "cell_type": "code",
   "execution_count": 2,
   "metadata": {},
   "outputs": [],
   "source": [
    "data2 = {\n",
    "'SType':'1',\n",
    "'searchColumn': 'all',\n",
    "'searchYear': 'all',\n",
    "'preSWord':'' ,\n",
    "'sword': '内幕交易',\n",
    "'searchAgain':'' ,\n",
    "'page': '3',\n",
    "'res_wenzhong':'' ,\n",
    "'res_wenzhonglist':'' ,\n",
    "'wenzhong':'' ,\n",
    "'pubwebsite': '/zjhpublic/'\n",
    "}"
   ]
  },
  {
   "cell_type": "code",
   "execution_count": 3,
   "metadata": {},
   "outputs": [],
   "source": [
    "log = []\n",
    "def find_one_page(page):\n",
    "    data2['page'] = page\n",
    "    r = requests.post('http://www.csrc.gov.cn/wcm/govsearch/simp_gov_list.jsp',data = data2)\n",
    "    soup = BeautifulSoup(r.text, 'html.parser')\n",
    "    allfind = soup.find_all('div','row')\n",
    "    for row in allfind:\n",
    "        onepage = []\n",
    "        if ('中国证监会行政处罚决定书' in row.find('a').get_text()):\n",
    "            onepage.append(row.find('a').get('href'))\n",
    "            onepage.append(row.find('a').get_text())\n",
    "            onepage.append(row.find('li','fbrq').get_text())\n",
    "            onepage.append(row.find('li','wh').get_text())\n",
    "            log.append(onepage)\n",
    "    print (\"page\",page,\"is ok\")"
   ]
  },
  {
   "cell_type": "code",
   "execution_count": 4,
   "metadata": {},
   "outputs": [],
   "source": [
    "log = []\n",
    "def find_one_page(page):\n",
    "    data2['page'] = page\n",
    "    r = requests.post('http://www.csrc.gov.cn/wcm/govsearch/simp_gov_list.jsp',data = data2)\n",
    "    soup = BeautifulSoup(r.text, 'html.parser')\n",
    "    allfind = soup.find_all('div','row')\n",
    "    for row in allfind:\n",
    "        onepage = []\n",
    "        if ('中国证监会行政处罚决定书' in row.find('a').get_text()):\n",
    "            onepage.append(row.find('a').get('href'))\n",
    "            onepage.append(row.find('a').get_text())\n",
    "            onepage.append(row.find('li','fbrq').get_text())\n",
    "            onepage.append(row.find('li','wh').get_text())\n",
    "            log.append(onepage)\n",
    "    print (\"page\",page,\"is ok\")"
   ]
  },
  {
   "cell_type": "code",
   "execution_count": 5,
   "metadata": {},
   "outputs": [
    {
     "output_type": "stream",
     "name": "stdout",
     "text": [
      "page 1 is ok\n",
      "page 2 is ok\n",
      "page 3 is ok\n",
      "page 4 is ok\n",
      "page 5 is ok\n",
      "page 6 is ok\n",
      "page 7 is ok\n",
      "page 8 is ok\n",
      "page 9 is ok\n",
      "page 10 is ok\n",
      "page 11 is ok\n",
      "page 12 is ok\n",
      "page 13 is ok\n",
      "page 14 is ok\n",
      "page 15 is ok\n",
      "page 16 is ok\n",
      "page 17 is ok\n",
      "page 18 is ok\n",
      "page 19 is ok\n",
      "page 20 is ok\n",
      "page 21 is ok\n",
      "page 22 is ok\n",
      "page 23 is ok\n",
      "page 24 is ok\n",
      "page 25 is ok\n",
      "page 26 is ok\n",
      "page 27 is ok\n",
      "page 28 is ok\n"
     ]
    }
   ],
   "source": [
    "for i in range(1,29):\n",
    "    find_one_page(i)"
   ]
  },
  {
   "cell_type": "code",
   "execution_count": 7,
   "metadata": {},
   "outputs": [],
   "source": [
    "\n",
    "out = pd.DataFrame(log)\n",
    "out.to_csv('../data/hreflist.csv')"
   ]
  },
  {
   "cell_type": "code",
   "execution_count": null,
   "metadata": {},
   "outputs": [],
   "source": []
  }
 ]
}