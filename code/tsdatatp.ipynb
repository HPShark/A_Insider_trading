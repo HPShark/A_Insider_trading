{
 "metadata": {
  "language_info": {
   "codemirror_mode": {
    "name": "ipython",
    "version": 3
   },
   "file_extension": ".py",
   "mimetype": "text/x-python",
   "name": "python",
   "nbconvert_exporter": "python",
   "pygments_lexer": "ipython3",
   "version": "3.7.7"
  },
  "orig_nbformat": 2,
  "kernelspec": {
   "name": "python3",
   "display_name": "Python 3",
   "language": "python"
  }
 },
 "nbformat": 4,
 "nbformat_minor": 2,
 "cells": [
  {
   "cell_type": "code",
   "execution_count": 1,
   "metadata": {},
   "outputs": [],
   "source": [
    "#此脚本用来寻找公告日之前的停牌日期\n",
    "import tushare as ts\n",
    "import pandas as pd"
   ]
  },
  {
   "cell_type": "code",
   "execution_count": 2,
   "metadata": {},
   "outputs": [],
   "source": [
    "pro = ts.pro_api()"
   ]
  },
  {
   "cell_type": "code",
   "execution_count": 3,
   "metadata": {},
   "outputs": [],
   "source": [
    "li = pd.read_excel('../data/databg.xlsx')"
   ]
  },
  {
   "cell_type": "code",
   "execution_count": 11,
   "metadata": {},
   "outputs": [],
   "source": [
    "dftp = pro.suspend(ts_code='600179.SH', suspend_date='', resume_date='', fields='')"
   ]
  },
  {
   "cell_type": "code",
   "execution_count": 18,
   "metadata": {},
   "outputs": [
    {
     "output_type": "execute_result",
     "data": {
      "text/plain": [
       "array(['20180510', '20180509', '20180508', '20180507', '20180504',\n",
       "       '20180503', '20180502', '20180427', '20180426', '20180425'],\n",
       "      dtype=object)"
      ]
     },
     "metadata": {},
     "execution_count": 18
    }
   ],
   "source": [
    "dftp['suspend_date'][10:20].values"
   ]
  },
  {
   "cell_type": "code",
   "execution_count": 13,
   "metadata": {},
   "outputs": [
    {
     "output_type": "execute_result",
     "data": {
      "text/plain": [
       "datetime.timedelta(days=-163)"
      ]
     },
     "metadata": {},
     "execution_count": 13
    }
   ],
   "source": [
    "from datetime import datetime \n",
    "a = datetime.strptime('20141201', '%Y%m%d')\n",
    "b = datetime.strptime('20150513', '%Y%m%d')\n",
    "a-b"
   ]
  },
  {
   "cell_type": "code",
   "execution_count": 4,
   "metadata": {},
   "outputs": [],
   "source": [
    "from datetime import datetime \n",
    "def get_max_nbt(ia):\n",
    "    '这是一个验证函数防止低级统计错误'\n",
    "    q1 = datetime.strptime(ia[0], '%Y%m%d')\n",
    "    max = 0\n",
    "    for i in ia[0:-1]:\n",
    "        q2 = datetime.strptime(i, '%Y%m%d')\n",
    "        if((q1 - q2).days > max):\n",
    "            max = (q1 - q2).days\n",
    "        q1 = q2\n",
    "    return max\n",
    "\n",
    "\n",
    "def gettprq(tscode,knowdate):\n",
    "    fo1 = knowdate\n",
    "    fo2 = '0'\n",
    "    fo0 = '0'\n",
    "    t1 = 0\n",
    "    t2 = 0\n",
    "    dftp = pro.suspend(ts_code=tscode, suspend_date='', resume_date='', fields='')\n",
    "    for i in range(len(dftp)):\n",
    "        if((dftp['resume_date'][i] != None) and (int(dftp['suspend_date'][i])) < int(knowdate)):\n",
    "            if(fo1 == knowdate):\n",
    "                fo1 = dftp['suspend_date'][i]\n",
    "                if(i>1):\n",
    "                    fo0 = dftp['suspend_date'][i-1]\n",
    "                t1 = i\n",
    "            else:\n",
    "                fo2 = dftp['suspend_date'][i-1]\n",
    "                t2 = i\n",
    "                break\n",
    "        else:\n",
    "            continue\n",
    "    fo3 = 0\n",
    "    if(t2 != 0):\n",
    "        fo3 = get_max_nbt(dftp['suspend_date'][t1:t2].values)\n",
    "    return fo0,fo1,fo2,fo3\n"
   ]
  },
  {
   "cell_type": "code",
   "execution_count": 4,
   "metadata": {},
   "outputs": [],
   "source": [
    "#寻找复牌日期早上起来写吧\n",
    "def gettprq(tscode,knowdate):\n",
    "    findout = knowdate\n",
    "    findout2 = knowdate\n",
    "    findout3 = '0'\n",
    "    dftp = pro.suspend(ts_code=tscode, suspend_date='', resume_date='', fields='')\n",
    "    for susdate in dftp['suspend_date']:\n",
    "        finddate = int(susdate)    #循环中的停牌日期\n",
    "        kndate = int(knowdate)     #公告日期\n",
    "        if(finddate >= kndate):    #如果循环日期在公告日期之后，两个tprq返回此时的循环日期并继续\n",
    "            findout = str(finddate)\n",
    "            findout2 = str(finddate) #一直循环到两个tprq都到了公告日期\n",
    "            continue\n",
    "        else:      #如果循环日期在公告日期之前\n",
    "            if((int(findout2)-finddate)>20): #如果循环日期之前的20天前都没有停牌过\n",
    "                 findout3 = str(finddate)   #fo3是最早的停牌日期\n",
    "                 break\n",
    "            else:                   #如果这个停牌日期距离上一个停牌日期在20天以内，\n",
    "                findout2 = str(finddate) \n",
    "                continue\n",
    "    return findout,findout2,findout3"
   ]
  },
  {
   "cell_type": "code",
   "execution_count": 5,
   "metadata": {},
   "outputs": [
    {
     "output_type": "stream",
     "name": "stdout",
     "text": [
      "14\n",
      "25\n",
      "39\n",
      "44\n",
      "46\n",
      "50\n"
     ]
    }
   ],
   "source": [
    "timelist1 = []\n",
    "ii = 0\n",
    "for i in li['ts_code']:\n",
    "    d=li[li['ts_code']==i]['news_date1'][ii]  \n",
    "    tetime = d.strftime('%Y%m%d')  # 公告日期\n",
    "    ii = ii+1\n",
    "\n",
    "    tprq0,tprq,tprq2,tprq3 = gettprq(i,tetime)\n",
    "    if(int(tetime) == int(tprq)):\n",
    "        print(ii)\n",
    "    timelist1.append([tprq,tprq2,tprq3,tprq0])"
   ]
  },
  {
   "cell_type": "code",
   "execution_count": 6,
   "metadata": {},
   "outputs": [],
   "source": [
    "li[['tingpai','tingpai2','tingpai3','tprrr0']] = timelist1"
   ]
  },
  {
   "cell_type": "code",
   "execution_count": 7,
   "metadata": {},
   "outputs": [],
   "source": [
    "li.to_excel('../data/data_h2.xlsx')"
   ]
  },
  {
   "cell_type": "code",
   "execution_count": 9,
   "metadata": {},
   "outputs": [],
   "source": [
    "aa = pro.suspend(ts_code='002161.SZ', suspend_date='', resume_date='', fields='')"
   ]
  },
  {
   "cell_type": "code",
   "execution_count": null,
   "metadata": {},
   "outputs": [],
   "source": [
    "###怎么说呢，这一步很傻逼，我也不知道我在干什么，但是没有这么一步的话整个数据都是错误的，但是没有文献提及"
   ]
  }
 ]
}