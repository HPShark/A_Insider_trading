{
 "metadata": {
  "language_info": {
   "codemirror_mode": {
    "name": "ipython",
    "version": 3
   },
   "file_extension": ".py",
   "mimetype": "text/x-python",
   "name": "python",
   "nbconvert_exporter": "python",
   "pygments_lexer": "ipython3",
   "version": "3.7.7-final"
  },
  "orig_nbformat": 2,
  "kernelspec": {
   "name": "python3",
   "display_name": "Python 3",
   "language": "python"
  }
 },
 "nbformat": 4,
 "nbformat_minor": 2,
 "cells": [
  {
   "cell_type": "code",
   "execution_count": 1,
   "metadata": {},
   "outputs": [],
   "source": [
    "import tushare as ts\n",
    "import pandas as pd"
   ]
  },
  {
   "cell_type": "code",
   "execution_count": 2,
   "metadata": {},
   "outputs": [],
   "source": [
    "pro = ts.pro_api()"
   ]
  },
  {
   "cell_type": "code",
   "execution_count": 3,
   "metadata": {},
   "outputs": [],
   "source": [
    "li = pd.read_excel('../data/databg.xlsx')"
   ]
  },
  {
   "cell_type": "code",
   "execution_count": 4,
   "metadata": {},
   "outputs": [],
   "source": [
    "#\n",
    "def gettprq(tscode,knowdate):\n",
    "    findout = knowdate\n",
    "    findout2 = knowdate\n",
    "    dftp = pro.suspend(ts_code=tscode, suspend_date='', resume_date='', fields='')\n",
    "    for susdate in dftp['suspend_date']:\n",
    "        finddate = int(susdate)\n",
    "        kndate = int(knowdate)\n",
    "        if(finddate >= kndate):\n",
    "            findout = str(finddate)\n",
    "            findout2 = str(finddate)\n",
    "            continue\n",
    "        else:\n",
    "            if((int(findout2)-finddate)>4):\n",
    "                 findout2 = str(finddate)\n",
    "                 break\n",
    "            else:\n",
    "                findout2 = str(finddate)\n",
    "                continue\n",
    "    return findout,findout2"
   ]
  },
  {
   "cell_type": "code",
   "execution_count": 5,
   "metadata": {},
   "outputs": [
    {
     "output_type": "stream",
     "name": "stdout",
     "text": [
      "3\n",
      "5\n",
      "10\n",
      "11\n",
      "14\n",
      "15\n",
      "16\n",
      "19\n",
      "20\n",
      "21\n",
      "23\n",
      "24\n",
      "25\n",
      "26\n",
      "27\n",
      "28\n",
      "29\n",
      "30\n",
      "32\n",
      "35\n",
      "37\n",
      "38\n",
      "39\n",
      "40\n",
      "41\n",
      "42\n",
      "46\n",
      "49\n",
      "51\n",
      "52\n"
     ]
    }
   ],
   "source": [
    "timelist1 = []\n",
    "ii = 0\n",
    "for i in li['ts_code']:\n",
    "    d=li[li['ts_code']==i]['news_date1'][ii]  # 公告日期\n",
    "    ii = ii+1\n",
    "    tetime = d.strftime('%Y%m%d')\n",
    "    tprq,tprq2 = gettprq(i,tetime)\n",
    "    if(int(tetime) == int(tprq)):\n",
    "        print(ii)\n",
    "    timelist1.append([tprq,tprq2])"
   ]
  },
  {
   "cell_type": "code",
   "execution_count": 6,
   "metadata": {},
   "outputs": [],
   "source": [
    "li[['tingpai','tingpai2']] = timelist1"
   ]
  },
  {
   "cell_type": "code",
   "execution_count": 7,
   "metadata": {},
   "outputs": [
    {
     "output_type": "stream",
     "name": "stdout",
     "text": [
      "Series([], Name: news_date1, dtype: datetime64[ns]) ts_code\n"
     ]
    }
   ],
   "source": [
    "for i in li[['ts_code']]:\n",
    "    d=li[li['ts_code']==i]['news_date1']\n",
    "    print(d,i)"
   ]
  },
  {
   "cell_type": "code",
   "execution_count": 7,
   "metadata": {},
   "outputs": [],
   "source": [
    "li.to_excel('../data/data_h2.xlsx')"
   ]
  },
  {
   "cell_type": "code",
   "execution_count": null,
   "metadata": {},
   "outputs": [],
   "source": []
  }
 ]
}