{
 "metadata": {
  "language_info": {
   "codemirror_mode": {
    "name": "ipython",
    "version": 3
   },
   "file_extension": ".py",
   "mimetype": "text/x-python",
   "name": "python",
   "nbconvert_exporter": "python",
   "pygments_lexer": "ipython3",
   "version": "3.7.7"
  },
  "orig_nbformat": 2,
  "kernelspec": {
   "name": "python3",
   "display_name": "Python 3.7.7 64-bit",
   "metadata": {
    "interpreter": {
     "hash": "72b328f1040734ca2fc33256a84b28dec603518597404fb4aade871c37be6453"
    }
   }
  }
 },
 "nbformat": 4,
 "nbformat_minor": 2,
 "cells": [
  {
   "cell_type": "code",
   "execution_count": 5,
   "metadata": {},
   "outputs": [],
   "source": [
    "import tushare as ts\n",
    "import pandas as pd\n",
    "pro = ts.pro_api()"
   ]
  },
  {
   "cell_type": "code",
   "execution_count": 6,
   "metadata": {},
   "outputs": [],
   "source": [
    "li = pd.read_excel('../data_h2.xlsx')\n",
    "li['tingpai'] = li['tingpai'].astype(str)\n",
    "stock_list = pro.stock_basic(exchange='', list_status='L',fields='ts_code,name,market,industry,list_date')"
   ]
  },
  {
   "cell_type": "code",
   "execution_count": 7,
   "metadata": {},
   "outputs": [],
   "source": [
    "def huanliariqi(date1):\n",
    "    '赶紧的忽悠着用个极为简单的算法换个日期，前四个月和前八个月'\n",
    "    mon = int(date1[4:6])\n",
    "    if(mon > 8):\n",
    "        return (int(date1)-400),(int(date1)-800)\n",
    "    elif(mon > 4):\n",
    "        return (int(date1)-400),(int(date1)-9600)\n",
    "    else:\n",
    "        return (int(date1)-9600),(int(date1)-9200)"
   ]
  },
  {
   "cell_type": "code",
   "execution_count": 8,
   "metadata": {},
   "outputs": [],
   "source": [
    "def index_list(industry,o_date):\n",
    "    '获得同类型市场数据_输出股票列表'\n",
    "    sl = stock_list[(stock_list['industry'] == industry) & (stock_list['list_date'].astype(int) < int(o_date))] #目前还在上市且该行业的股票列表\n",
    "    return sl['ts_code']"
   ]
  },
  {
   "cell_type": "code",
   "execution_count": 9,
   "metadata": {
    "tags": []
   },
   "outputs": [],
   "source": [
    "insc4 = []\n",
    "insc8 = []\n",
    "insc4d = []\n",
    "insc8d = []\n",
    "\n",
    "for i in li.index:\n",
    "    hdate4,hdate8 = huanliariqi(li['tingpai'][i])\n",
    "    hind = li['industry'][i]\n",
    "    il1 = index_list(hind,hdate8)\n",
    "    il2 = il1.sample(n = 2)\n",
    "    insc4.append(il2[0:1].values[0])\n",
    "    insc4d.append(str(hdate4))\n",
    "    insc8.append(il2[1:].values[0])\n",
    "    insc8d.append(str(hdate8))"
   ]
  },
  {
   "cell_type": "code",
   "execution_count": 11,
   "metadata": {},
   "outputs": [],
   "source": [
    "li['in4'] = insc4\n",
    "li['in8'] = insc8\n",
    "li['in4d'] = insc4d\n",
    "li['in8d'] = insc8d"
   ]
  },
  {
   "cell_type": "code",
   "execution_count": 17,
   "metadata": {},
   "outputs": [],
   "source": [
    "lt1 = li[['ts_code','industry','tingpai']]\n",
    "lt2 = li[['in4','industry','in4d']]\n",
    "lt3 = lt3.rename(columns={'in8':'ts_code'})\n",
    "lt3 = li[['in8','industry','in8d']]"
   ]
  },
  {
   "cell_type": "code",
   "execution_count": 22,
   "metadata": {},
   "outputs": [],
   "source": [
    "lt2 = lt2.rename(columns={'in4d':'tingpai'})\n",
    "lt3 = lt3.rename(columns={'in8d':'tingpai'})"
   ]
  },
  {
   "cell_type": "code",
   "execution_count": 18,
   "metadata": {},
   "outputs": [
    {
     "output_type": "stream",
     "name": "stderr",
     "text": [
      "ipykernel_launcher:1: SettingWithCopyWarning: \nA value is trying to be set on a copy of a slice from a DataFrame.\nTry using .loc[row_indexer,col_indexer] = value instead\n\nSee the caveats in the documentation: https://pandas.pydata.org/pandas-docs/stable/user_guide/indexing.html#returning-a-view-versus-a-copy\n"
     ]
    }
   ],
   "source": [
    "lt1['label'] = 1"
   ]
  },
  {
   "cell_type": "code",
   "execution_count": 19,
   "metadata": {},
   "outputs": [],
   "source": [
    "lt2['label'] = 0"
   ]
  },
  {
   "cell_type": "code",
   "execution_count": 20,
   "metadata": {},
   "outputs": [],
   "source": [
    "lt3['label'] = 0"
   ]
  },
  {
   "cell_type": "code",
   "execution_count": 23,
   "metadata": {},
   "outputs": [],
   "source": [
    "sc_list = lt1.append([lt2,lt3])"
   ]
  },
  {
   "cell_type": "code",
   "execution_count": 25,
   "metadata": {},
   "outputs": [],
   "source": [
    "sc_list.to_csv('../data/sc_list.csv')"
   ]
  },
  {
   "cell_type": "code",
   "execution_count": null,
   "metadata": {},
   "outputs": [],
   "source": []
  }
 ]
}