{
 "metadata": {
  "language_info": {
   "codemirror_mode": {
    "name": "ipython",
    "version": 3
   },
   "file_extension": ".py",
   "mimetype": "text/x-python",
   "name": "python",
   "nbconvert_exporter": "python",
   "pygments_lexer": "ipython3",
   "version": "3.7.7-final"
  },
  "orig_nbformat": 2,
  "kernelspec": {
   "name": "python3",
   "display_name": "Python 3",
   "language": "python"
  }
 },
 "nbformat": 4,
 "nbformat_minor": 2,
 "cells": [
  {
   "cell_type": "code",
   "execution_count": null,
   "metadata": {},
   "outputs": [],
   "source": [
    "hreflist = pd.read_csv('../data/hreflist.csv')"
   ]
  },
  {
   "cell_type": "code",
   "execution_count": null,
   "metadata": {},
   "outputs": [],
   "source": [
    "addressf = 'http://www.csrc.gov.cn'"
   ]
  },
  {
   "cell_type": "code",
   "execution_count": null,
   "metadata": {},
   "outputs": [],
   "source": [
    "log = []\n",
    "num = 1\n",
    "for add in hreflist['0']:\n",
    "    address = addressf + add\n",
    "    r = requests.get(address[0:-14])\n",
    "    r.encoding = 'utf - 8'\n",
    "    soup = BeautifulSoup(r.text, 'html.parser')\n",
    "    a = soup.find('div','mainContainer').get_text()\n",
    "    log.append(a)\n",
    "    print(num)\n",
    "    num =num+1\n",
    "    time.sleep(1)"
   ]
  },
  {
   "cell_type": "code",
   "execution_count": null,
   "metadata": {},
   "outputs": [],
   "source": [
    "out = pd.DataFrame(log)\n",
    "out.to_csv('../data/textlist.csv')"
   ]
  },
  {
   "cell_type": "code",
   "execution_count": 1,
   "metadata": {},
   "outputs": [],
   "source": [
    "import pandas as pd\n",
    "import requests\n",
    "from bs4 import BeautifulSoup\n",
    "import time"
   ]
  },
  {
   "cell_type": "code",
   "execution_count": 2,
   "metadata": {},
   "outputs": [],
   "source": [
    "test = pd.read_csv('../data/textlist.csv')"
   ]
  },
  {
   "cell_type": "code",
   "execution_count": 13,
   "metadata": {},
   "outputs": [],
   "source": [
    "def is_number(s):\n",
    "    try:\n",
    "        float(s)\n",
    "        return True\n",
    "    except ValueError:\n",
    "        pass\n",
    "    return False"
   ]
  },
  {
   "cell_type": "code",
   "execution_count": 9,
   "metadata": {},
   "outputs": [],
   "source": [
    "def findnum(str0,postion):\n",
    "    try:\n",
    "        if(is_number(str0[:postion])):\n",
    "            return findnum(str0,postion+1)\n",
    "        else:\n",
    "            return postion\n",
    "    except ValueError:\n",
    "        pass\n",
    "'''\n",
    "def findwfsd(str1):\n",
    "    current = str1.find('违法所得')\n",
    "    str1 = str1[current+4:]\n",
    "    currentpos = findnum(str1,1)-1\n",
    "    if (currentpos>0):\n",
    "        currentnum = str1[0:currentpos]\n",
    "        return currentnum\n",
    "    else:\n",
    "        return findwfsd(str1)\n",
    "'''\n",
    "\n",
    "def findwfsd(str1):\n",
    "    current = str1.find('违法所得')\n",
    "    if(current != -1):\n",
    "        str1 = str1[current+4:]\n",
    "        currentpos = findnum(str1,1)-1\n",
    "        if (currentpos>0):\n",
    "            cend= str1.find('元')\n",
    "            currentnum = str1[0:cend]\n",
    "            return currentnum\n",
    "        else:\n",
    "            return findwfsd(str1)\n",
    "    else:\n",
    "        return('0')"
   ]
  },
  {
   "cell_type": "code",
   "execution_count": 35,
   "metadata": {
    "tags": []
   },
   "outputs": [],
   "source": [
    "\n",
    "log = []\n",
    "index = 0\n",
    "for i in test['0']:\n",
    "    logs = []\n",
    "    a = findwfsd(i)\n",
    "    a= a.replace(',','')\n",
    "    if(('万')in a):\n",
    "        a = a.replace('余','')\n",
    "        a = float(a.replace('万',''))*10000\n",
    "    else:\n",
    "        a = float(a.replace(',',''))\n",
    "    if (a<200000):\n",
    "        logs.append(index)\n",
    "        logs.append(a)     \n",
    "        log.append(logs)\n",
    "    index = index+1"
   ]
  },
  {
   "cell_type": "code",
   "execution_count": 36,
   "metadata": {},
   "outputs": [],
   "source": [
    "out = pd.DataFrame(log)\n",
    "out.to_csv('../data/0wjb.csv')"
   ]
  },
  {
   "cell_type": "code",
   "execution_count": null,
   "metadata": {},
   "outputs": [],
   "source": []
  }
 ]
}