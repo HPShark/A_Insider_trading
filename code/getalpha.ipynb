{
 "metadata": {
  "language_info": {
   "codemirror_mode": {
    "name": "ipython",
    "version": 3
   },
   "file_extension": ".py",
   "mimetype": "text/x-python",
   "name": "python",
   "nbconvert_exporter": "python",
   "pygments_lexer": "ipython3",
   "version": "3.7.7-final"
  },
  "orig_nbformat": 2,
  "kernelspec": {
   "name": "python3",
   "display_name": "Python 3.7.7 64-bit",
   "metadata": {
    "interpreter": {
     "hash": "72b328f1040734ca2fc33256a84b28dec603518597404fb4aade871c37be6453"
    }
   }
  }
 },
 "nbformat": 4,
 "nbformat_minor": 2,
 "cells": [
  {
   "cell_type": "code",
   "execution_count": 1,
   "metadata": {},
   "outputs": [],
   "source": [
    "import tushare as ts\n",
    "import pandas as pd\n",
    "pro = ts.pro_api()"
   ]
  },
  {
   "cell_type": "code",
   "execution_count": 2,
   "metadata": {},
   "outputs": [],
   "source": [
    "li = pd.read_excel('../data/databg.xlsx')"
   ]
  },
  {
   "cell_type": "code",
   "execution_count": 3,
   "metadata": {},
   "outputs": [],
   "source": [
    "data1 = pro.stock_basic(exchange='', list_status='D', fields='ts_code,symbol,name,area,industry,list_date,list_status,delist_date')\n",
    "data2 = pro.stock_basic(exchange='', list_status='L', fields='ts_code,symbol,name,area,industry,list_date,list_status,delist_date')\n",
    "data3 = pro.stock_basic(exchange='', list_status='P', fields='ts_code,symbol,name,area,industry,list_date,list_status,delist_date')\n",
    "stock_list = data1.append([data2,data3])"
   ]
  },
  {
   "cell_type": "code",
   "execution_count": 5,
   "metadata": {},
   "outputs": [],
   "source": [
    "def get_cp(time,tscode,tprq):\n",
    "    df = pro.daily(ts_code=tscode, start_date=str(int(tprq)-10000), end_date=tprq)\n",
    "    return df"
   ]
  },
  {
   "cell_type": "code",
   "execution_count": 9,
   "metadata": {},
   "outputs": [],
   "source": [
    "a=get_cp(2,'002161.SZ','20150518')"
   ]
  },
  {
   "cell_type": "code",
   "execution_count": 10,
   "metadata": {},
   "outputs": [
    {
     "output_type": "execute_result",
     "data": {
      "text/plain": [
       "      ts_code trade_date   open   high    low  close  pre_close  change  \\\n",
       "0   002161.SZ   20150518  17.13  18.04  16.80  18.03      17.42    0.61   \n",
       "1   002161.SZ   20150515  18.63  18.63  16.96  17.42      16.94    0.48   \n",
       "2   002161.SZ   20150514  16.94  16.94  16.94  16.94      15.40    1.54   \n",
       "3   002161.SZ   20150325  14.66  15.85  14.53  15.40      14.73    0.67   \n",
       "4   002161.SZ   20150324  15.08  15.10  13.91  14.73      15.08   -0.35   \n",
       "5   002161.SZ   20150323  14.95  15.15  14.62  15.08      14.86    0.22   \n",
       "6   002161.SZ   20150320  14.66  15.09  14.50  14.86      14.80    0.06   \n",
       "7   002161.SZ   20150319  14.16  15.18  13.98  14.80      14.15    0.65   \n",
       "8   002161.SZ   20150318  13.76  14.36  13.71  14.15      13.85    0.30   \n",
       "9   002161.SZ   20150317  14.06  14.18  13.56  13.85      13.99   -0.14   \n",
       "10  002161.SZ   20150316  12.81  13.99  12.81  13.99      12.72    1.27   \n",
       "11  002161.SZ   20150313  12.45  12.75  12.36  12.72      12.52    0.20   \n",
       "12  002161.SZ   20150312  12.67  12.99  12.21  12.52      12.76   -0.24   \n",
       "13  002161.SZ   20150311  12.32  12.90  12.12  12.76      12.33    0.43   \n",
       "14  002161.SZ   20150310  12.52  12.89  12.17  12.33      12.47   -0.14   \n",
       "15  002161.SZ   20150309  12.03  12.55  11.80  12.47      12.05    0.42   \n",
       "16  002161.SZ   20150306  12.70  13.45  11.98  12.05      12.65   -0.60   \n",
       "17  002161.SZ   20150305  12.51  12.80  12.25  12.65      12.71   -0.06   \n",
       "18  002161.SZ   20150304  11.57  12.76  11.48  12.71      11.60    1.11   \n",
       "19  002161.SZ   20150303  11.75  11.97  11.48  11.60      11.77   -0.17   \n",
       "20  002161.SZ   20150302  11.50  11.97  11.28  11.77      11.46    0.31   \n",
       "21  002161.SZ   20150227  10.96  11.63  10.90  11.46      10.85    0.61   \n",
       "22  002161.SZ   20150226  10.72  11.06  10.71  10.85      10.71    0.14   \n",
       "23  002161.SZ   20150225  11.13  11.20  10.58  10.71      11.03   -0.32   \n",
       "24  002161.SZ   20150217  11.26  11.30  10.90  11.03      11.04   -0.01   \n",
       "25  002161.SZ   20150216  10.98  11.21  10.84  11.04      10.96    0.08   \n",
       "26  002161.SZ   20150213  10.40  11.24  10.39  10.96      10.40    0.56   \n",
       "27  002161.SZ   20150212  10.29  10.59  10.18  10.40      10.30    0.10   \n",
       "28  002161.SZ   20150211   9.89  10.41   9.86  10.30       9.90    0.40   \n",
       "29  002161.SZ   20150210   9.59   9.90   9.31   9.90       9.47    0.43   \n",
       "30  002161.SZ   20150209   9.67   9.89   9.45   9.47       9.68   -0.21   \n",
       "31  002161.SZ   20150206   9.74   9.92   9.58   9.68       9.74   -0.06   \n",
       "32  002161.SZ   20150205  10.00  10.27   9.73   9.74       9.88   -0.14   \n",
       "33  002161.SZ   20150204  10.01  10.04   9.82   9.88       9.98   -0.10   \n",
       "34  002161.SZ   20150203   9.51  10.08   9.49   9.98       9.51    0.47   \n",
       "35  002161.SZ   20150202   9.43   9.55   9.21   9.51       9.29    0.22   \n",
       "36  002161.SZ   20150130   9.31   9.43   9.13   9.29       9.26    0.03   \n",
       "37  002161.SZ   20150129   9.28   9.48   9.23   9.26       9.34   -0.08   \n",
       "38  002161.SZ   20150128   9.26   9.54   9.26   9.34       9.35   -0.01   \n",
       "39  002161.SZ   20150127   9.29   9.43   9.10   9.35       9.34    0.01   \n",
       "\n",
       "    pct_chg        vol        amount  \n",
       "0      3.50  529845.38  9.287283e+05  \n",
       "1      2.83  832321.46  1.477901e+06  \n",
       "2     10.00   25738.36  4.360078e+04  \n",
       "3      4.55  420228.00  6.415233e+05  \n",
       "4     -2.32  421617.44  6.148427e+05  \n",
       "5      1.48  325453.56  4.821933e+05  \n",
       "6      0.41  301156.58  4.450901e+05  \n",
       "7      4.59  433231.56  6.350467e+05  \n",
       "8      2.17  261105.05  3.685275e+05  \n",
       "9     -1.00  390621.36  5.432642e+05  \n",
       "10     9.98  426446.74  5.804796e+05  \n",
       "11     1.60  187182.40  2.354703e+05  \n",
       "12    -1.88  235121.22  2.962401e+05  \n",
       "13     3.49  266069.42  3.342916e+05  \n",
       "14    -1.12  257283.68  3.204799e+05  \n",
       "15     3.49  232074.35  2.856250e+05  \n",
       "16    -4.74  476370.68  6.001364e+05  \n",
       "17    -0.47  306662.98  3.849388e+05  \n",
       "18     9.57  421391.97  5.141080e+05  \n",
       "19    -1.44  246222.66  2.871995e+05  \n",
       "20     2.71  253745.78  2.953131e+05  \n",
       "21     5.62  288846.57  3.273473e+05  \n",
       "22     1.31  162322.41  1.764717e+05  \n",
       "23    -2.90  191399.90  2.081351e+05  \n",
       "24    -0.09  203129.32  2.243476e+05  \n",
       "25     0.73  298793.84  3.299289e+05  \n",
       "26     5.38  498950.29  5.419052e+05  \n",
       "27     0.97  286953.99  2.986259e+05  \n",
       "28     4.04  312034.36  3.180649e+05  \n",
       "29     4.54  214099.48  2.056947e+05  \n",
       "30    -2.17  158386.16  1.533545e+05  \n",
       "31    -0.62  191584.83  1.862971e+05  \n",
       "32    -1.42  291483.65  2.921464e+05  \n",
       "33    -1.00  210526.02  2.089675e+05  \n",
       "34     4.94  441466.77  4.374957e+05  \n",
       "35     2.37  259475.48  2.445428e+05  \n",
       "36     0.32  251760.40  2.338690e+05  \n",
       "37    -0.86  189636.60  1.769664e+05  \n",
       "38    -0.11  268152.87  2.526077e+05  \n",
       "39     0.11  260328.44  2.408613e+05  "
      ],
      "text/html": "<div>\n<style scoped>\n    .dataframe tbody tr th:only-of-type {\n        vertical-align: middle;\n    }\n\n    .dataframe tbody tr th {\n        vertical-align: top;\n    }\n\n    .dataframe thead th {\n        text-align: right;\n    }\n</style>\n<table border=\"1\" class=\"dataframe\">\n  <thead>\n    <tr style=\"text-align: right;\">\n      <th></th>\n      <th>ts_code</th>\n      <th>trade_date</th>\n      <th>open</th>\n      <th>high</th>\n      <th>low</th>\n      <th>close</th>\n      <th>pre_close</th>\n      <th>change</th>\n      <th>pct_chg</th>\n      <th>vol</th>\n      <th>amount</th>\n    </tr>\n  </thead>\n  <tbody>\n    <tr>\n      <th>0</th>\n      <td>002161.SZ</td>\n      <td>20150518</td>\n      <td>17.13</td>\n      <td>18.04</td>\n      <td>16.80</td>\n      <td>18.03</td>\n      <td>17.42</td>\n      <td>0.61</td>\n      <td>3.50</td>\n      <td>529845.38</td>\n      <td>9.287283e+05</td>\n    </tr>\n    <tr>\n      <th>1</th>\n      <td>002161.SZ</td>\n      <td>20150515</td>\n      <td>18.63</td>\n      <td>18.63</td>\n      <td>16.96</td>\n      <td>17.42</td>\n      <td>16.94</td>\n      <td>0.48</td>\n      <td>2.83</td>\n      <td>832321.46</td>\n      <td>1.477901e+06</td>\n    </tr>\n    <tr>\n      <th>2</th>\n      <td>002161.SZ</td>\n      <td>20150514</td>\n      <td>16.94</td>\n      <td>16.94</td>\n      <td>16.94</td>\n      <td>16.94</td>\n      <td>15.40</td>\n      <td>1.54</td>\n      <td>10.00</td>\n      <td>25738.36</td>\n      <td>4.360078e+04</td>\n    </tr>\n    <tr>\n      <th>3</th>\n      <td>002161.SZ</td>\n      <td>20150325</td>\n      <td>14.66</td>\n      <td>15.85</td>\n      <td>14.53</td>\n      <td>15.40</td>\n      <td>14.73</td>\n      <td>0.67</td>\n      <td>4.55</td>\n      <td>420228.00</td>\n      <td>6.415233e+05</td>\n    </tr>\n    <tr>\n      <th>4</th>\n      <td>002161.SZ</td>\n      <td>20150324</td>\n      <td>15.08</td>\n      <td>15.10</td>\n      <td>13.91</td>\n      <td>14.73</td>\n      <td>15.08</td>\n      <td>-0.35</td>\n      <td>-2.32</td>\n      <td>421617.44</td>\n      <td>6.148427e+05</td>\n    </tr>\n    <tr>\n      <th>5</th>\n      <td>002161.SZ</td>\n      <td>20150323</td>\n      <td>14.95</td>\n      <td>15.15</td>\n      <td>14.62</td>\n      <td>15.08</td>\n      <td>14.86</td>\n      <td>0.22</td>\n      <td>1.48</td>\n      <td>325453.56</td>\n      <td>4.821933e+05</td>\n    </tr>\n    <tr>\n      <th>6</th>\n      <td>002161.SZ</td>\n      <td>20150320</td>\n      <td>14.66</td>\n      <td>15.09</td>\n      <td>14.50</td>\n      <td>14.86</td>\n      <td>14.80</td>\n      <td>0.06</td>\n      <td>0.41</td>\n      <td>301156.58</td>\n      <td>4.450901e+05</td>\n    </tr>\n    <tr>\n      <th>7</th>\n      <td>002161.SZ</td>\n      <td>20150319</td>\n      <td>14.16</td>\n      <td>15.18</td>\n      <td>13.98</td>\n      <td>14.80</td>\n      <td>14.15</td>\n      <td>0.65</td>\n      <td>4.59</td>\n      <td>433231.56</td>\n      <td>6.350467e+05</td>\n    </tr>\n    <tr>\n      <th>8</th>\n      <td>002161.SZ</td>\n      <td>20150318</td>\n      <td>13.76</td>\n      <td>14.36</td>\n      <td>13.71</td>\n      <td>14.15</td>\n      <td>13.85</td>\n      <td>0.30</td>\n      <td>2.17</td>\n      <td>261105.05</td>\n      <td>3.685275e+05</td>\n    </tr>\n    <tr>\n      <th>9</th>\n      <td>002161.SZ</td>\n      <td>20150317</td>\n      <td>14.06</td>\n      <td>14.18</td>\n      <td>13.56</td>\n      <td>13.85</td>\n      <td>13.99</td>\n      <td>-0.14</td>\n      <td>-1.00</td>\n      <td>390621.36</td>\n      <td>5.432642e+05</td>\n    </tr>\n    <tr>\n      <th>10</th>\n      <td>002161.SZ</td>\n      <td>20150316</td>\n      <td>12.81</td>\n      <td>13.99</td>\n      <td>12.81</td>\n      <td>13.99</td>\n      <td>12.72</td>\n      <td>1.27</td>\n      <td>9.98</td>\n      <td>426446.74</td>\n      <td>5.804796e+05</td>\n    </tr>\n    <tr>\n      <th>11</th>\n      <td>002161.SZ</td>\n      <td>20150313</td>\n      <td>12.45</td>\n      <td>12.75</td>\n      <td>12.36</td>\n      <td>12.72</td>\n      <td>12.52</td>\n      <td>0.20</td>\n      <td>1.60</td>\n      <td>187182.40</td>\n      <td>2.354703e+05</td>\n    </tr>\n    <tr>\n      <th>12</th>\n      <td>002161.SZ</td>\n      <td>20150312</td>\n      <td>12.67</td>\n      <td>12.99</td>\n      <td>12.21</td>\n      <td>12.52</td>\n      <td>12.76</td>\n      <td>-0.24</td>\n      <td>-1.88</td>\n      <td>235121.22</td>\n      <td>2.962401e+05</td>\n    </tr>\n    <tr>\n      <th>13</th>\n      <td>002161.SZ</td>\n      <td>20150311</td>\n      <td>12.32</td>\n      <td>12.90</td>\n      <td>12.12</td>\n      <td>12.76</td>\n      <td>12.33</td>\n      <td>0.43</td>\n      <td>3.49</td>\n      <td>266069.42</td>\n      <td>3.342916e+05</td>\n    </tr>\n    <tr>\n      <th>14</th>\n      <td>002161.SZ</td>\n      <td>20150310</td>\n      <td>12.52</td>\n      <td>12.89</td>\n      <td>12.17</td>\n      <td>12.33</td>\n      <td>12.47</td>\n      <td>-0.14</td>\n      <td>-1.12</td>\n      <td>257283.68</td>\n      <td>3.204799e+05</td>\n    </tr>\n    <tr>\n      <th>15</th>\n      <td>002161.SZ</td>\n      <td>20150309</td>\n      <td>12.03</td>\n      <td>12.55</td>\n      <td>11.80</td>\n      <td>12.47</td>\n      <td>12.05</td>\n      <td>0.42</td>\n      <td>3.49</td>\n      <td>232074.35</td>\n      <td>2.856250e+05</td>\n    </tr>\n    <tr>\n      <th>16</th>\n      <td>002161.SZ</td>\n      <td>20150306</td>\n      <td>12.70</td>\n      <td>13.45</td>\n      <td>11.98</td>\n      <td>12.05</td>\n      <td>12.65</td>\n      <td>-0.60</td>\n      <td>-4.74</td>\n      <td>476370.68</td>\n      <td>6.001364e+05</td>\n    </tr>\n    <tr>\n      <th>17</th>\n      <td>002161.SZ</td>\n      <td>20150305</td>\n      <td>12.51</td>\n      <td>12.80</td>\n      <td>12.25</td>\n      <td>12.65</td>\n      <td>12.71</td>\n      <td>-0.06</td>\n      <td>-0.47</td>\n      <td>306662.98</td>\n      <td>3.849388e+05</td>\n    </tr>\n    <tr>\n      <th>18</th>\n      <td>002161.SZ</td>\n      <td>20150304</td>\n      <td>11.57</td>\n      <td>12.76</td>\n      <td>11.48</td>\n      <td>12.71</td>\n      <td>11.60</td>\n      <td>1.11</td>\n      <td>9.57</td>\n      <td>421391.97</td>\n      <td>5.141080e+05</td>\n    </tr>\n    <tr>\n      <th>19</th>\n      <td>002161.SZ</td>\n      <td>20150303</td>\n      <td>11.75</td>\n      <td>11.97</td>\n      <td>11.48</td>\n      <td>11.60</td>\n      <td>11.77</td>\n      <td>-0.17</td>\n      <td>-1.44</td>\n      <td>246222.66</td>\n      <td>2.871995e+05</td>\n    </tr>\n    <tr>\n      <th>20</th>\n      <td>002161.SZ</td>\n      <td>20150302</td>\n      <td>11.50</td>\n      <td>11.97</td>\n      <td>11.28</td>\n      <td>11.77</td>\n      <td>11.46</td>\n      <td>0.31</td>\n      <td>2.71</td>\n      <td>253745.78</td>\n      <td>2.953131e+05</td>\n    </tr>\n    <tr>\n      <th>21</th>\n      <td>002161.SZ</td>\n      <td>20150227</td>\n      <td>10.96</td>\n      <td>11.63</td>\n      <td>10.90</td>\n      <td>11.46</td>\n      <td>10.85</td>\n      <td>0.61</td>\n      <td>5.62</td>\n      <td>288846.57</td>\n      <td>3.273473e+05</td>\n    </tr>\n    <tr>\n      <th>22</th>\n      <td>002161.SZ</td>\n      <td>20150226</td>\n      <td>10.72</td>\n      <td>11.06</td>\n      <td>10.71</td>\n      <td>10.85</td>\n      <td>10.71</td>\n      <td>0.14</td>\n      <td>1.31</td>\n      <td>162322.41</td>\n      <td>1.764717e+05</td>\n    </tr>\n    <tr>\n      <th>23</th>\n      <td>002161.SZ</td>\n      <td>20150225</td>\n      <td>11.13</td>\n      <td>11.20</td>\n      <td>10.58</td>\n      <td>10.71</td>\n      <td>11.03</td>\n      <td>-0.32</td>\n      <td>-2.90</td>\n      <td>191399.90</td>\n      <td>2.081351e+05</td>\n    </tr>\n    <tr>\n      <th>24</th>\n      <td>002161.SZ</td>\n      <td>20150217</td>\n      <td>11.26</td>\n      <td>11.30</td>\n      <td>10.90</td>\n      <td>11.03</td>\n      <td>11.04</td>\n      <td>-0.01</td>\n      <td>-0.09</td>\n      <td>203129.32</td>\n      <td>2.243476e+05</td>\n    </tr>\n    <tr>\n      <th>25</th>\n      <td>002161.SZ</td>\n      <td>20150216</td>\n      <td>10.98</td>\n      <td>11.21</td>\n      <td>10.84</td>\n      <td>11.04</td>\n      <td>10.96</td>\n      <td>0.08</td>\n      <td>0.73</td>\n      <td>298793.84</td>\n      <td>3.299289e+05</td>\n    </tr>\n    <tr>\n      <th>26</th>\n      <td>002161.SZ</td>\n      <td>20150213</td>\n      <td>10.40</td>\n      <td>11.24</td>\n      <td>10.39</td>\n      <td>10.96</td>\n      <td>10.40</td>\n      <td>0.56</td>\n      <td>5.38</td>\n      <td>498950.29</td>\n      <td>5.419052e+05</td>\n    </tr>\n    <tr>\n      <th>27</th>\n      <td>002161.SZ</td>\n      <td>20150212</td>\n      <td>10.29</td>\n      <td>10.59</td>\n      <td>10.18</td>\n      <td>10.40</td>\n      <td>10.30</td>\n      <td>0.10</td>\n      <td>0.97</td>\n      <td>286953.99</td>\n      <td>2.986259e+05</td>\n    </tr>\n    <tr>\n      <th>28</th>\n      <td>002161.SZ</td>\n      <td>20150211</td>\n      <td>9.89</td>\n      <td>10.41</td>\n      <td>9.86</td>\n      <td>10.30</td>\n      <td>9.90</td>\n      <td>0.40</td>\n      <td>4.04</td>\n      <td>312034.36</td>\n      <td>3.180649e+05</td>\n    </tr>\n    <tr>\n      <th>29</th>\n      <td>002161.SZ</td>\n      <td>20150210</td>\n      <td>9.59</td>\n      <td>9.90</td>\n      <td>9.31</td>\n      <td>9.90</td>\n      <td>9.47</td>\n      <td>0.43</td>\n      <td>4.54</td>\n      <td>214099.48</td>\n      <td>2.056947e+05</td>\n    </tr>\n    <tr>\n      <th>30</th>\n      <td>002161.SZ</td>\n      <td>20150209</td>\n      <td>9.67</td>\n      <td>9.89</td>\n      <td>9.45</td>\n      <td>9.47</td>\n      <td>9.68</td>\n      <td>-0.21</td>\n      <td>-2.17</td>\n      <td>158386.16</td>\n      <td>1.533545e+05</td>\n    </tr>\n    <tr>\n      <th>31</th>\n      <td>002161.SZ</td>\n      <td>20150206</td>\n      <td>9.74</td>\n      <td>9.92</td>\n      <td>9.58</td>\n      <td>9.68</td>\n      <td>9.74</td>\n      <td>-0.06</td>\n      <td>-0.62</td>\n      <td>191584.83</td>\n      <td>1.862971e+05</td>\n    </tr>\n    <tr>\n      <th>32</th>\n      <td>002161.SZ</td>\n      <td>20150205</td>\n      <td>10.00</td>\n      <td>10.27</td>\n      <td>9.73</td>\n      <td>9.74</td>\n      <td>9.88</td>\n      <td>-0.14</td>\n      <td>-1.42</td>\n      <td>291483.65</td>\n      <td>2.921464e+05</td>\n    </tr>\n    <tr>\n      <th>33</th>\n      <td>002161.SZ</td>\n      <td>20150204</td>\n      <td>10.01</td>\n      <td>10.04</td>\n      <td>9.82</td>\n      <td>9.88</td>\n      <td>9.98</td>\n      <td>-0.10</td>\n      <td>-1.00</td>\n      <td>210526.02</td>\n      <td>2.089675e+05</td>\n    </tr>\n    <tr>\n      <th>34</th>\n      <td>002161.SZ</td>\n      <td>20150203</td>\n      <td>9.51</td>\n      <td>10.08</td>\n      <td>9.49</td>\n      <td>9.98</td>\n      <td>9.51</td>\n      <td>0.47</td>\n      <td>4.94</td>\n      <td>441466.77</td>\n      <td>4.374957e+05</td>\n    </tr>\n    <tr>\n      <th>35</th>\n      <td>002161.SZ</td>\n      <td>20150202</td>\n      <td>9.43</td>\n      <td>9.55</td>\n      <td>9.21</td>\n      <td>9.51</td>\n      <td>9.29</td>\n      <td>0.22</td>\n      <td>2.37</td>\n      <td>259475.48</td>\n      <td>2.445428e+05</td>\n    </tr>\n    <tr>\n      <th>36</th>\n      <td>002161.SZ</td>\n      <td>20150130</td>\n      <td>9.31</td>\n      <td>9.43</td>\n      <td>9.13</td>\n      <td>9.29</td>\n      <td>9.26</td>\n      <td>0.03</td>\n      <td>0.32</td>\n      <td>251760.40</td>\n      <td>2.338690e+05</td>\n    </tr>\n    <tr>\n      <th>37</th>\n      <td>002161.SZ</td>\n      <td>20150129</td>\n      <td>9.28</td>\n      <td>9.48</td>\n      <td>9.23</td>\n      <td>9.26</td>\n      <td>9.34</td>\n      <td>-0.08</td>\n      <td>-0.86</td>\n      <td>189636.60</td>\n      <td>1.769664e+05</td>\n    </tr>\n    <tr>\n      <th>38</th>\n      <td>002161.SZ</td>\n      <td>20150128</td>\n      <td>9.26</td>\n      <td>9.54</td>\n      <td>9.26</td>\n      <td>9.34</td>\n      <td>9.35</td>\n      <td>-0.01</td>\n      <td>-0.11</td>\n      <td>268152.87</td>\n      <td>2.526077e+05</td>\n    </tr>\n    <tr>\n      <th>39</th>\n      <td>002161.SZ</td>\n      <td>20150127</td>\n      <td>9.29</td>\n      <td>9.43</td>\n      <td>9.10</td>\n      <td>9.35</td>\n      <td>9.34</td>\n      <td>0.01</td>\n      <td>0.11</td>\n      <td>260328.44</td>\n      <td>2.408613e+05</td>\n    </tr>\n  </tbody>\n</table>\n</div>"
     },
     "metadata": {},
     "execution_count": 10
    }
   ],
   "source": [
    "a[0:40]"
   ]
  },
  {
   "cell_type": "code",
   "execution_count": null,
   "metadata": {},
   "outputs": [],
   "source": []
  }
 ]
}