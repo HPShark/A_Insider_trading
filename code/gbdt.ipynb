{
 "metadata": {
  "language_info": {
   "codemirror_mode": {
    "name": "ipython",
    "version": 3
   },
   "file_extension": ".py",
   "mimetype": "text/x-python",
   "name": "python",
   "nbconvert_exporter": "python",
   "pygments_lexer": "ipython3",
   "version": "3.7.7"
  },
  "orig_nbformat": 2,
  "kernelspec": {
   "name": "python3",
   "display_name": "Python 3.7.7 64-bit",
   "metadata": {
    "interpreter": {
     "hash": "72b328f1040734ca2fc33256a84b28dec603518597404fb4aade871c37be6453"
    }
   }
  }
 },
 "nbformat": 4,
 "nbformat_minor": 2,
 "cells": [
  {
   "cell_type": "code",
   "execution_count": 1,
   "metadata": {},
   "outputs": [],
   "source": [
    "import pandas as pd"
   ]
  },
  {
   "cell_type": "code",
   "execution_count": 2,
   "metadata": {},
   "outputs": [],
   "source": [
    "train = pd.read_csv('dataset_st.csv',index_col = 0)"
   ]
  },
  {
   "cell_type": "code",
   "execution_count": 3,
   "metadata": {},
   "outputs": [],
   "source": [
    "import lightgbm as lgb\n",
    "from sklearn import datasets\n",
    "from sklearn.model_selection import KFold\n",
    "from sklearn.model_selection import train_test_split\n",
    "import numpy as np\n",
    "from sklearn.metrics import roc_auc_score, accuracy_score"
   ]
  },
  {
   "source": [
    "X_train, X_test, y_train, y_test = train_test_split(dataset, datalabel, test_size=0.3)"
   ],
   "cell_type": "markdown",
   "metadata": {}
  },
  {
   "source": [
    "train_data = lgb.Dataset(X_train, label=y_train)\n",
    "validation_data = lgb.Dataset(X_test, label=y_test)"
   ],
   "cell_type": "markdown",
   "metadata": {}
  },
  {
   "cell_type": "code",
   "execution_count": 4,
   "metadata": {},
   "outputs": [],
   "source": [
    "del_feature = ['ts_code', 'label']\n",
    "features = [i for i in train.columns if i not in del_feature]\n",
    "\n",
    "## Convert the label to two categories\n",
    "train_x = train[features]\n",
    "train_y = train['label'].values"
   ]
  },
  {
   "cell_type": "code",
   "execution_count": 5,
   "metadata": {},
   "outputs": [],
   "source": [
    "train2 = pd.read_csv('dataset_st.csv',index_col = 0)\n",
    "data_label = train2.pop('label')\n",
    "tscode = train2.pop('ts_code')"
   ]
  },
  {
   "cell_type": "code",
   "execution_count": 6,
   "metadata": {},
   "outputs": [],
   "source": [
    "X_train, X_test, y_train, y_test = train_test_split(train2, data_label, test_size=0.2)\n",
    "\n",
    "train_data = lgb.Dataset(X_train, label=y_train)\n",
    "validation_data = lgb.Dataset(X_test, label=y_test)"
   ]
  },
  {
   "cell_type": "code",
   "execution_count": 7,
   "metadata": {},
   "outputs": [
    {
     "output_type": "stream",
     "name": "stdout",
     "text": [
      "[1]\tvalid_0's binary_logloss: 0.534868\tvalid_0's auc: 0.727053\n[2]\tvalid_0's binary_logloss: 0.762607\tvalid_0's auc: 0.565217\n[3]\tvalid_0's binary_logloss: 0.736112\tvalid_0's auc: 0.560386\n[4]\tvalid_0's binary_logloss: 0.843265\tvalid_0's auc: 0.5\n[5]\tvalid_0's binary_logloss: 0.922205\tvalid_0's auc: 0.466184\n[6]\tvalid_0's binary_logloss: 0.862171\tvalid_0's auc: 0.463768\n[7]\tvalid_0's binary_logloss: 0.915219\tvalid_0's auc: 0.439614\n[8]\tvalid_0's binary_logloss: 0.811841\tvalid_0's auc: 0.463768\n[9]\tvalid_0's binary_logloss: 0.878667\tvalid_0's auc: 0.487923\n[10]\tvalid_0's binary_logloss: 0.916365\tvalid_0's auc: 0.502415\n[11]\tvalid_0's binary_logloss: 0.942017\tvalid_0's auc: 0.463768\n[12]\tvalid_0's binary_logloss: 1.01085\tvalid_0's auc: 0.458937\n[13]\tvalid_0's binary_logloss: 1.04503\tvalid_0's auc: 0.468599\n[14]\tvalid_0's binary_logloss: 1.04216\tvalid_0's auc: 0.458937\n[15]\tvalid_0's binary_logloss: 0.911953\tvalid_0's auc: 0.478261\n[16]\tvalid_0's binary_logloss: 0.891191\tvalid_0's auc: 0.512077\n[17]\tvalid_0's binary_logloss: 0.809053\tvalid_0's auc: 0.541063\n[18]\tvalid_0's binary_logloss: 0.798772\tvalid_0's auc: 0.531401\n[19]\tvalid_0's binary_logloss: 0.862553\tvalid_0's auc: 0.502415\n[20]\tvalid_0's binary_logloss: 0.861103\tvalid_0's auc: 0.52657\n[21]\tvalid_0's binary_logloss: 0.879514\tvalid_0's auc: 0.536232\n[22]\tvalid_0's binary_logloss: 0.793731\tvalid_0's auc: 0.594203\n[23]\tvalid_0's binary_logloss: 0.825936\tvalid_0's auc: 0.589372\n[24]\tvalid_0's binary_logloss: 0.848241\tvalid_0's auc: 0.560386\n[25]\tvalid_0's binary_logloss: 0.823273\tvalid_0's auc: 0.574879\n[26]\tvalid_0's binary_logloss: 0.839666\tvalid_0's auc: 0.560386\n[27]\tvalid_0's binary_logloss: 0.828738\tvalid_0's auc: 0.555556\n[28]\tvalid_0's binary_logloss: 0.825788\tvalid_0's auc: 0.570048\n[29]\tvalid_0's binary_logloss: 0.870515\tvalid_0's auc: 0.555556\n[30]\tvalid_0's binary_logloss: 0.829359\tvalid_0's auc: 0.584541\n[31]\tvalid_0's binary_logloss: 0.876949\tvalid_0's auc: 0.574879\n[32]\tvalid_0's binary_logloss: 0.832782\tvalid_0's auc: 0.57971\n[33]\tvalid_0's binary_logloss: 0.873363\tvalid_0's auc: 0.560386\n[34]\tvalid_0's binary_logloss: 0.807664\tvalid_0's auc: 0.560386\n[35]\tvalid_0's binary_logloss: 0.752138\tvalid_0's auc: 0.594203\n[36]\tvalid_0's binary_logloss: 0.805513\tvalid_0's auc: 0.536232\n[37]\tvalid_0's binary_logloss: 0.821925\tvalid_0's auc: 0.574879\n[38]\tvalid_0's binary_logloss: 0.792908\tvalid_0's auc: 0.545894\n[39]\tvalid_0's binary_logloss: 0.855238\tvalid_0's auc: 0.574879\n[40]\tvalid_0's binary_logloss: 0.778289\tvalid_0's auc: 0.618357\n[41]\tvalid_0's binary_logloss: 0.824324\tvalid_0's auc: 0.599034\n[42]\tvalid_0's binary_logloss: 0.870437\tvalid_0's auc: 0.584541\n[43]\tvalid_0's binary_logloss: 0.851751\tvalid_0's auc: 0.608696\n[44]\tvalid_0's binary_logloss: 0.87196\tvalid_0's auc: 0.589372\n[45]\tvalid_0's binary_logloss: 0.88396\tvalid_0's auc: 0.584541\n[46]\tvalid_0's binary_logloss: 0.907096\tvalid_0's auc: 0.584541\n[47]\tvalid_0's binary_logloss: 0.908475\tvalid_0's auc: 0.594203\n[48]\tvalid_0's binary_logloss: 0.851767\tvalid_0's auc: 0.603865\n[49]\tvalid_0's binary_logloss: 0.886925\tvalid_0's auc: 0.628019\n[50]\tvalid_0's binary_logloss: 0.896737\tvalid_0's auc: 0.618357\n[51]\tvalid_0's binary_logloss: 0.906899\tvalid_0's auc: 0.623188\n[52]\tvalid_0's binary_logloss: 0.902712\tvalid_0's auc: 0.613527\n[53]\tvalid_0's binary_logloss: 0.871683\tvalid_0's auc: 0.589372\n[54]\tvalid_0's binary_logloss: 0.8562\tvalid_0's auc: 0.599034\n[55]\tvalid_0's binary_logloss: 0.849062\tvalid_0's auc: 0.589372\n[56]\tvalid_0's binary_logloss: 0.882513\tvalid_0's auc: 0.603865\n[57]\tvalid_0's binary_logloss: 0.831893\tvalid_0's auc: 0.623188\n[58]\tvalid_0's binary_logloss: 0.870054\tvalid_0's auc: 0.599034\n[59]\tvalid_0's binary_logloss: 0.930721\tvalid_0's auc: 0.594203\n[60]\tvalid_0's binary_logloss: 0.917869\tvalid_0's auc: 0.599034\n[61]\tvalid_0's binary_logloss: 0.880805\tvalid_0's auc: 0.623188\n[62]\tvalid_0's binary_logloss: 0.898859\tvalid_0's auc: 0.613527\n[63]\tvalid_0's binary_logloss: 0.85692\tvalid_0's auc: 0.623188\n[64]\tvalid_0's binary_logloss: 0.83306\tvalid_0's auc: 0.647343\n[65]\tvalid_0's binary_logloss: 0.810762\tvalid_0's auc: 0.657005\n[66]\tvalid_0's binary_logloss: 0.800114\tvalid_0's auc: 0.657005\n[67]\tvalid_0's binary_logloss: 0.819592\tvalid_0's auc: 0.637681\n[68]\tvalid_0's binary_logloss: 0.853377\tvalid_0's auc: 0.647343\n[69]\tvalid_0's binary_logloss: 0.875037\tvalid_0's auc: 0.628019\n[70]\tvalid_0's binary_logloss: 0.880346\tvalid_0's auc: 0.642512\n[71]\tvalid_0's binary_logloss: 0.841441\tvalid_0's auc: 0.647343\n[72]\tvalid_0's binary_logloss: 0.880576\tvalid_0's auc: 0.623188\n[73]\tvalid_0's binary_logloss: 0.893252\tvalid_0's auc: 0.623188\n[74]\tvalid_0's binary_logloss: 0.918634\tvalid_0's auc: 0.623188\n[75]\tvalid_0's binary_logloss: 0.833503\tvalid_0's auc: 0.637681\n[76]\tvalid_0's binary_logloss: 0.822384\tvalid_0's auc: 0.657005\n[77]\tvalid_0's binary_logloss: 0.842786\tvalid_0's auc: 0.647343\n[78]\tvalid_0's binary_logloss: 0.878495\tvalid_0's auc: 0.652174\n[79]\tvalid_0's binary_logloss: 0.915199\tvalid_0's auc: 0.637681\n[80]\tvalid_0's binary_logloss: 0.902862\tvalid_0's auc: 0.63285\n[81]\tvalid_0's binary_logloss: 0.937485\tvalid_0's auc: 0.613527\n[82]\tvalid_0's binary_logloss: 0.910388\tvalid_0's auc: 0.589372\n[83]\tvalid_0's binary_logloss: 0.934552\tvalid_0's auc: 0.57971\n[84]\tvalid_0's binary_logloss: 0.934552\tvalid_0's auc: 0.57971\n[85]\tvalid_0's binary_logloss: 0.976145\tvalid_0's auc: 0.603865\n[86]\tvalid_0's binary_logloss: 0.953748\tvalid_0's auc: 0.603865\n[87]\tvalid_0's binary_logloss: 0.968571\tvalid_0's auc: 0.608696\n[88]\tvalid_0's binary_logloss: 0.921704\tvalid_0's auc: 0.608696\n[89]\tvalid_0's binary_logloss: 0.98539\tvalid_0's auc: 0.608696\n[90]\tvalid_0's binary_logloss: 0.969144\tvalid_0's auc: 0.608696\n[91]\tvalid_0's binary_logloss: 0.952434\tvalid_0's auc: 0.623188\n[92]\tvalid_0's binary_logloss: 0.914878\tvalid_0's auc: 0.637681\n[93]\tvalid_0's binary_logloss: 0.991092\tvalid_0's auc: 0.618357\n[94]\tvalid_0's binary_logloss: 0.918597\tvalid_0's auc: 0.657005\n[95]\tvalid_0's binary_logloss: 0.881431\tvalid_0's auc: 0.661836\n[96]\tvalid_0's binary_logloss: 0.871743\tvalid_0's auc: 0.657005\n[97]\tvalid_0's binary_logloss: 0.904341\tvalid_0's auc: 0.652174\n[98]\tvalid_0's binary_logloss: 0.904341\tvalid_0's auc: 0.652174\n[99]\tvalid_0's binary_logloss: 0.962849\tvalid_0's auc: 0.637681\n[100]\tvalid_0's binary_logloss: 0.941901\tvalid_0's auc: 0.637681\n"
     ]
    }
   ],
   "source": [
    "params = {'num_leaves': 90, #结果对最终效果影响较大，越大值越好，太大会出现过拟合\n",
    "          'objective': 'binary', #定义的目标函数\n",
    "          'max_depth': -1,\n",
    "          'learning_rate':  1,\n",
    "          \"min_sum_hessian_in_leaf\": 4,\n",
    "          \"boosting\": \"gbdt\",\n",
    "          \"feature_fraction\": 0.8,  #提取的特征比率\n",
    "          \"bagging_freq\": 1,\n",
    "          \"bagging_fraction\": 0.8,\n",
    "          \"bagging_seed\": 11,\n",
    "          \"lambda_l1\": 0.1,             #l1正则\n",
    "          \"verbosity\": -1,\n",
    "          \"nthread\": -1,          \n",
    "          'metric': {'binary_logloss', 'auc'},  ##评价函数选择\n",
    "          }\n",
    "clf = lgb.train(params,\n",
    "                    train_data,\n",
    "                    valid_sets=[validation_data])"
   ]
  },
  {
   "cell_type": "code",
   "execution_count": 8,
   "metadata": {},
   "outputs": [],
   "source": [
    "y_pred = clf.predict(X_test)\n",
    "def xl(x):\n",
    "    if(x>0.2):\n",
    "        return 1\n",
    "    else:\n",
    "        return 0"
   ]
  },
  {
   "cell_type": "code",
   "execution_count": 9,
   "metadata": {},
   "outputs": [],
   "source": [
    "from sklearn.metrics import confusion_matrix"
   ]
  },
  {
   "cell_type": "code",
   "execution_count": 10,
   "metadata": {},
   "outputs": [
    {
     "output_type": "stream",
     "name": "stdout",
     "text": [
      "[0, 1, 0, 0, 0, 0, 1, 0, 1, 0, 0, 0, 0, 0, 0, 0, 0, 0, 1, 0, 0, 0, 1, 0, 0, 0, 0, 1, 1, 1, 0, 1]\n0.6875\n[[18  5]\n [ 5  4]]\n"
     ]
    }
   ],
   "source": [
    "y_pred = clf.predict(X_test)\n",
    "y_pred = [xl(x) for x in y_pred]\n",
    "print(y_pred)\n",
    "print(accuracy_score(y_test, y_pred))\n",
    "print(confusion_matrix(y_test, y_pred))"
   ]
  },
  {
   "cell_type": "code",
   "execution_count": null,
   "metadata": {},
   "outputs": [],
   "source": []
  },
  {
   "cell_type": "code",
   "execution_count": 15,
   "metadata": {},
   "outputs": [
    {
     "output_type": "stream",
     "name": "stdout",
     "text": [
      "fold 1\nTraining until validation scores don't improve for 60 rounds\n[20]\ttraining's auc: 0.866113\ttraining's binary_logloss: 0.533865\tvalid_1's auc: 0.65873\tvalid_1's binary_logloss: 0.683493\n[40]\ttraining's auc: 0.902244\ttraining's binary_logloss: 0.484346\tvalid_1's auc: 0.674603\tvalid_1's binary_logloss: 0.675738\n[60]\ttraining's auc: 0.918561\ttraining's binary_logloss: 0.446689\tvalid_1's auc: 0.65873\tvalid_1's binary_logloss: 0.691504\n[80]\ttraining's auc: 0.92701\ttraining's binary_logloss: 0.417116\tvalid_1's auc: 0.650794\tvalid_1's binary_logloss: 0.705651\nEarly stopping, best iteration is:\n[35]\ttraining's auc: 0.894376\ttraining's binary_logloss: 0.495902\tvalid_1's auc: 0.678571\tvalid_1's binary_logloss: 0.681031\nfold 2\nTraining until validation scores don't improve for 60 rounds\n[20]\ttraining's auc: 0.870893\ttraining's binary_logloss: 0.547215\tvalid_1's auc: 0.591787\tvalid_1's binary_logloss: 0.604449\n[40]\ttraining's auc: 0.885816\ttraining's binary_logloss: 0.494373\tvalid_1's auc: 0.57971\tvalid_1's binary_logloss: 0.609633\n[60]\ttraining's auc: 0.904573\ttraining's binary_logloss: 0.460823\tvalid_1's auc: 0.618357\tvalid_1's binary_logloss: 0.611697\nEarly stopping, best iteration is:\n[16]\ttraining's auc: 0.85282\ttraining's binary_logloss: 0.563682\tvalid_1's auc: 0.594203\tvalid_1's binary_logloss: 0.598517\nfold 3\nTraining until validation scores don't improve for 60 rounds\n[20]\ttraining's auc: 0.846899\ttraining's binary_logloss: 0.561259\tvalid_1's auc: 0.690909\tvalid_1's binary_logloss: 0.589002\n[40]\ttraining's auc: 0.881229\ttraining's binary_logloss: 0.510478\tvalid_1's auc: 0.693182\tvalid_1's binary_logloss: 0.576539\n[60]\ttraining's auc: 0.908223\ttraining's binary_logloss: 0.468533\tvalid_1's auc: 0.675\tvalid_1's binary_logloss: 0.576318\n[80]\ttraining's auc: 0.927049\ttraining's binary_logloss: 0.438381\tvalid_1's auc: 0.684091\tvalid_1's binary_logloss: 0.574232\n[100]\ttraining's auc: 0.947813\ttraining's binary_logloss: 0.414436\tvalid_1's auc: 0.688636\tvalid_1's binary_logloss: 0.569323\nDid not meet early stopping. Best iteration is:\n[97]\ttraining's auc: 0.94809\ttraining's binary_logloss: 0.416971\tvalid_1's auc: 0.688636\tvalid_1's binary_logloss: 0.568976\nfold 4\nTraining until validation scores don't improve for 60 rounds\n[20]\ttraining's auc: 0.823111\ttraining's binary_logloss: 0.578351\tvalid_1's auc: 0.753623\tvalid_1's binary_logloss: 0.551669\n[40]\ttraining's auc: 0.847892\ttraining's binary_logloss: 0.536464\tvalid_1's auc: 0.777778\tvalid_1's binary_logloss: 0.523866\n[60]\ttraining's auc: 0.883488\ttraining's binary_logloss: 0.503236\tvalid_1's auc: 0.772947\tvalid_1's binary_logloss: 0.511717\n[80]\ttraining's auc: 0.901561\ttraining's binary_logloss: 0.474047\tvalid_1's auc: 0.78744\tvalid_1's binary_logloss: 0.498528\n[100]\ttraining's auc: 0.923467\ttraining's binary_logloss: 0.449413\tvalid_1's auc: 0.782609\tvalid_1's binary_logloss: 0.497179\nDid not meet early stopping. Best iteration is:\n[100]\ttraining's auc: 0.923467\ttraining's binary_logloss: 0.449413\tvalid_1's auc: 0.782609\tvalid_1's binary_logloss: 0.497179\nfold 5\nTraining until validation scores don't improve for 60 rounds\n[20]\ttraining's auc: 0.87237\ttraining's binary_logloss: 0.549078\tvalid_1's auc: 0.609091\tvalid_1's binary_logloss: 0.636835\n[40]\ttraining's auc: 0.894657\ttraining's binary_logloss: 0.496633\tvalid_1's auc: 0.618182\tvalid_1's binary_logloss: 0.633279\n[60]\ttraining's auc: 0.913621\ttraining's binary_logloss: 0.456957\tvalid_1's auc: 0.590909\tvalid_1's binary_logloss: 0.650819\nEarly stopping, best iteration is:\n[7]\ttraining's auc: 0.832364\ttraining's binary_logloss: 0.598887\tvalid_1's auc: 0.693182\tvalid_1's binary_logloss: 0.636029\n"
     ]
    }
   ],
   "source": [
    "params = {'num_leaves': 60, #结果对最终效果影响较大，越大值越好，太大会出现过拟合\n",
    "          'min_data_in_leaf': 20,\n",
    "          'objective': 'binary', #定义的目标函数\n",
    "          'max_depth': 7,\n",
    "          'num_leaves' : 32,\n",
    "          'learning_rate': 0.03,\n",
    "          \"min_sum_hessian_in_leaf\": 4,\n",
    "          \"boosting\": \"gbdt\",\n",
    "          \"feature_fraction\": 0.9,  #提取的特征比率\n",
    "          \"bagging_freq\": 1,\n",
    "          \"bagging_fraction\": 0.8,\n",
    "          \"bagging_seed\": 11,\n",
    "          \"lambda_l1\": 0.1,             #l1正则\n",
    "          \"verbosity\": -1,\n",
    "          \"nthread\": -1,          \n",
    "          'metric': {'binary_logloss', 'auc'},  ##评价函数选择\n",
    "          \"random_state\": 2019, #随机数种子，可以防止每次运行的结果不一致\n",
    "          }\n",
    "\n",
    "folds = KFold(n_splits=5, shuffle=True, random_state=2019)\n",
    "prob_oof = np.zeros((train_x.shape[0], ))\n",
    "\n",
    "## train and predict\n",
    "feature_importance_df = pd.DataFrame()\n",
    "for fold_, (trn_idx, val_idx) in enumerate(folds.split(train)):\n",
    "    print(\"fold {}\".format(fold_ + 1))\n",
    "    trn_data = lgb.Dataset(train_x.iloc[trn_idx], label=train_y[trn_idx])\n",
    "    val_data = lgb.Dataset(train_x.iloc[val_idx], label=train_y[val_idx])\n",
    "\n",
    "\n",
    "    clf = lgb.train(params,\n",
    "                    trn_data,\n",
    "                    valid_sets=[trn_data, val_data],\n",
    "                    verbose_eval=20,\n",
    "                    early_stopping_rounds=60)\n",
    "    prob_oof[val_idx] = clf.predict(train_x.iloc[val_idx], num_iteration=clf.best_iteration)\n",
    "\n",
    "    fold_importance_df = pd.DataFrame()\n",
    "    fold_importance_df[\"Feature\"] = features\n",
    "    fold_importance_df[\"importance\"] = clf.feature_importance()\n",
    "    fold_importance_df[\"fold\"] = fold_ + 1\n",
    "    feature_importance_df = pd.concat([feature_importance_df, fold_importance_df], axis=0)"
   ]
  },
  {
   "cell_type": "code",
   "execution_count": 11,
   "metadata": {},
   "outputs": [
    {
     "output_type": "execute_result",
     "data": {
      "text/plain": [
       "<graphviz.dot.Digraph at 0x10f6a476288>"
      ],
      "image/svg+xml": "<?xml version=\"1.0\" encoding=\"UTF-8\" standalone=\"no\"?>\r\n<!DOCTYPE svg PUBLIC \"-//W3C//DTD SVG 1.1//EN\"\r\n \"http://www.w3.org/Graphics/SVG/1.1/DTD/svg11.dtd\">\r\n<!-- Generated by graphviz version 2.47.0 (20210316.0004)\r\n -->\r\n<!-- Pages: 1 -->\r\n<svg width=\"588pt\" height=\"104pt\"\r\n viewBox=\"0.00 0.00 588.18 104.00\" xmlns=\"http://www.w3.org/2000/svg\" xmlns:xlink=\"http://www.w3.org/1999/xlink\">\r\n<g id=\"graph0\" class=\"graph\" transform=\"scale(1 1) rotate(0) translate(4 100)\">\r\n<polygon fill=\"white\" stroke=\"transparent\" points=\"-4,4 -4,-100 584.18,-100 584.18,4 -4,4\"/>\r\n<!-- split0 -->\r\n<g id=\"node1\" class=\"node\">\r\n<title>split0</title>\r\n<polygon fill=\"none\" stroke=\"black\" points=\"96,-68 0,-68 0,-32 96,-32 96,-68\"/>\r\n<text text-anchor=\"start\" x=\"8\" y=\"-47.3\" font-family=\"Times New Roman,serif\" font-weight=\"bold\" font-size=\"14.00\">cari</text>\r\n<text text-anchor=\"start\" x=\"33\" y=\"-47.3\" font-family=\"Times New Roman,serif\" font-size=\"14.00\"> ≤ </text>\r\n<text text-anchor=\"start\" x=\"49\" y=\"-47.3\" font-family=\"Times New Roman,serif\" font-weight=\"bold\" font-size=\"14.00\">&#45;0.029</text>\r\n</g>\r\n<!-- leaf0 -->\r\n<g id=\"node2\" class=\"node\">\r\n<title>leaf0</title>\r\n<ellipse fill=\"none\" stroke=\"black\" cx=\"196.79\" cy=\"-70\" rx=\"59.59\" ry=\"18\"/>\r\n<text text-anchor=\"start\" x=\"158.79\" y=\"-67.3\" font-family=\"Times New Roman,serif\" font-size=\"14.00\">leaf 0: </text>\r\n<text text-anchor=\"start\" x=\"195.79\" y=\"-67.3\" font-family=\"Times New Roman,serif\" font-weight=\"bold\" font-size=\"14.00\">&#45;1.581</text>\r\n</g>\r\n<!-- split0&#45;&gt;leaf0 -->\r\n<g id=\"edge1\" class=\"edge\">\r\n<title>split0&#45;&gt;leaf0</title>\r\n<path fill=\"none\" stroke=\"black\" d=\"M96.25,-56.44C107.65,-57.99 120.01,-59.67 132.02,-61.31\"/>\r\n<polygon fill=\"black\" stroke=\"black\" points=\"131.62,-64.79 142,-62.67 132.56,-57.85 131.62,-64.79\"/>\r\n<text text-anchor=\"middle\" x=\"116.5\" y=\"-63.8\" font-family=\"Times New Roman,serif\" font-size=\"14.00\">yes</text>\r\n</g>\r\n<!-- split1 -->\r\n<g id=\"node3\" class=\"node\">\r\n<title>split1</title>\r\n<polygon fill=\"none\" stroke=\"black\" points=\"245.79,-48 147.79,-48 147.79,-12 245.79,-12 245.79,-48\"/>\r\n<text text-anchor=\"start\" x=\"155.79\" y=\"-27.3\" font-family=\"Times New Roman,serif\" font-weight=\"bold\" font-size=\"14.00\">carm</text>\r\n<text text-anchor=\"start\" x=\"187.79\" y=\"-27.3\" font-family=\"Times New Roman,serif\" font-size=\"14.00\"> ≤ </text>\r\n<text text-anchor=\"start\" x=\"203.79\" y=\"-27.3\" font-family=\"Times New Roman,serif\" font-weight=\"bold\" font-size=\"14.00\">0.547</text>\r\n</g>\r\n<!-- split0&#45;&gt;split1 -->\r\n<g id=\"edge6\" class=\"edge\">\r\n<title>split0&#45;&gt;split1</title>\r\n<path fill=\"none\" stroke=\"black\" d=\"M96.16,-43.48C99.83,-42.98 103.48,-42.48 107,-42 116.83,-40.66 127.26,-39.24 137.4,-37.87\"/>\r\n<polygon fill=\"black\" stroke=\"black\" points=\"137.96,-41.32 147.4,-36.52 137.02,-34.39 137.96,-41.32\"/>\r\n<text text-anchor=\"middle\" x=\"116.5\" y=\"-45.8\" font-family=\"Times New Roman,serif\" font-size=\"14.00\">no</text>\r\n</g>\r\n<!-- split2 -->\r\n<g id=\"node4\" class=\"node\">\r\n<title>split2</title>\r\n<polygon fill=\"none\" stroke=\"black\" points=\"419.59,-76 297.59,-76 297.59,-40 419.59,-40 419.59,-76\"/>\r\n<text text-anchor=\"start\" x=\"305.59\" y=\"-55.3\" font-family=\"Times New Roman,serif\" font-weight=\"bold\" font-size=\"14.00\">Volatility</text>\r\n<text text-anchor=\"start\" x=\"361.59\" y=\"-55.3\" font-family=\"Times New Roman,serif\" font-size=\"14.00\"> ≤ </text>\r\n<text text-anchor=\"start\" x=\"377.59\" y=\"-55.3\" font-family=\"Times New Roman,serif\" font-weight=\"bold\" font-size=\"14.00\">0.465</text>\r\n</g>\r\n<!-- split1&#45;&gt;split2 -->\r\n<g id=\"edge4\" class=\"edge\">\r\n<title>split1&#45;&gt;split2</title>\r\n<path fill=\"none\" stroke=\"black\" d=\"M246.17,-38.48C259.18,-40.76 273.52,-43.27 287.45,-45.71\"/>\r\n<polygon fill=\"black\" stroke=\"black\" points=\"287.05,-49.19 297.51,-47.47 288.26,-42.3 287.05,-49.19\"/>\r\n<text text-anchor=\"middle\" x=\"277.09\" y=\"-47.8\" font-family=\"Times New Roman,serif\" font-size=\"14.00\">yes</text>\r\n</g>\r\n<!-- leaf2 -->\r\n<g id=\"node7\" class=\"node\">\r\n<title>leaf2</title>\r\n<ellipse fill=\"none\" stroke=\"black\" cx=\"358.59\" cy=\"-18\" rx=\"56.59\" ry=\"18\"/>\r\n<text text-anchor=\"start\" x=\"323.09\" y=\"-15.3\" font-family=\"Times New Roman,serif\" font-size=\"14.00\">leaf 2: </text>\r\n<text text-anchor=\"start\" x=\"360.09\" y=\"-15.3\" font-family=\"Times New Roman,serif\" font-weight=\"bold\" font-size=\"14.00\">0.561</text>\r\n</g>\r\n<!-- split1&#45;&gt;leaf2 -->\r\n<g id=\"edge5\" class=\"edge\">\r\n<title>split1&#45;&gt;leaf2</title>\r\n<path fill=\"none\" stroke=\"black\" d=\"M246.17,-26.37C260.94,-25.26 277.42,-24.02 293.08,-22.84\"/>\r\n<polygon fill=\"black\" stroke=\"black\" points=\"293.52,-26.32 303.23,-22.08 292.99,-19.34 293.52,-26.32\"/>\r\n<text text-anchor=\"middle\" x=\"277.09\" y=\"-28.8\" font-family=\"Times New Roman,serif\" font-size=\"14.00\">no</text>\r\n</g>\r\n<!-- leaf1 -->\r\n<g id=\"node5\" class=\"node\">\r\n<title>leaf1</title>\r\n<ellipse fill=\"none\" stroke=\"black\" cx=\"520.38\" cy=\"-78\" rx=\"59.59\" ry=\"18\"/>\r\n<text text-anchor=\"start\" x=\"482.38\" y=\"-75.3\" font-family=\"Times New Roman,serif\" font-size=\"14.00\">leaf 1: </text>\r\n<text text-anchor=\"start\" x=\"519.38\" y=\"-75.3\" font-family=\"Times New Roman,serif\" font-weight=\"bold\" font-size=\"14.00\">&#45;1.087</text>\r\n</g>\r\n<!-- split2&#45;&gt;leaf1 -->\r\n<g id=\"edge2\" class=\"edge\">\r\n<title>split2&#45;&gt;leaf1</title>\r\n<path fill=\"none\" stroke=\"black\" d=\"M420,-65.56C431.42,-66.99 443.4,-68.49 454.93,-69.93\"/>\r\n<polygon fill=\"black\" stroke=\"black\" points=\"454.57,-73.42 464.93,-71.18 455.44,-66.47 454.57,-73.42\"/>\r\n<text text-anchor=\"middle\" x=\"440.09\" y=\"-72.8\" font-family=\"Times New Roman,serif\" font-size=\"14.00\">yes</text>\r\n</g>\r\n<!-- leaf3 -->\r\n<g id=\"node6\" class=\"node\">\r\n<title>leaf3</title>\r\n<ellipse fill=\"none\" stroke=\"black\" cx=\"520.38\" cy=\"-38\" rx=\"56.59\" ry=\"18\"/>\r\n<text text-anchor=\"start\" x=\"484.88\" y=\"-35.3\" font-family=\"Times New Roman,serif\" font-size=\"14.00\">leaf 3: </text>\r\n<text text-anchor=\"start\" x=\"521.88\" y=\"-35.3\" font-family=\"Times New Roman,serif\" font-weight=\"bold\" font-size=\"14.00\">0.242</text>\r\n</g>\r\n<!-- split2&#45;&gt;leaf3 -->\r\n<g id=\"edge3\" class=\"edge\">\r\n<title>split2&#45;&gt;leaf3</title>\r\n<path fill=\"none\" stroke=\"black\" d=\"M420,-50.44C432.22,-48.91 445.09,-47.3 457.37,-45.76\"/>\r\n<polygon fill=\"black\" stroke=\"black\" points=\"458.02,-49.21 467.51,-44.49 457.15,-42.26 458.02,-49.21\"/>\r\n<text text-anchor=\"middle\" x=\"440.09\" y=\"-51.8\" font-family=\"Times New Roman,serif\" font-size=\"14.00\">no</text>\r\n</g>\r\n</g>\r\n</svg>\r\n"
     },
     "metadata": {},
     "execution_count": 11
    }
   ],
   "source": [
    "import os\n",
    "os.environ[\"PATH\"] += os.pathsep + 'C:/Program Files/Graphviz/bin'\n",
    " \n",
    "lgb.create_tree_digraph(clf,tree_index = 0)"
   ]
  },
  {
   "cell_type": "code",
   "execution_count": 12,
   "metadata": {},
   "outputs": [
    {
     "output_type": "execute_result",
     "data": {
      "text/plain": [
       "<graphviz.dot.Digraph at 0x10f6b48ab88>"
      ],
      "image/svg+xml": "<?xml version=\"1.0\" encoding=\"UTF-8\" standalone=\"no\"?>\r\n<!DOCTYPE svg PUBLIC \"-//W3C//DTD SVG 1.1//EN\"\r\n \"http://www.w3.org/Graphics/SVG/1.1/DTD/svg11.dtd\">\r\n<!-- Generated by graphviz version 2.47.0 (20210316.0004)\r\n -->\r\n<!-- Pages: 1 -->\r\n<svg width=\"431pt\" height=\"164pt\"\r\n viewBox=\"0.00 0.00 430.59 164.00\" xmlns=\"http://www.w3.org/2000/svg\" xmlns:xlink=\"http://www.w3.org/1999/xlink\">\r\n<g id=\"graph0\" class=\"graph\" transform=\"scale(1 1) rotate(0) translate(4 160)\">\r\n<polygon fill=\"white\" stroke=\"transparent\" points=\"-4,4 -4,-160 426.59,-160 426.59,4 -4,4\"/>\r\n<!-- split0 -->\r\n<g id=\"node1\" class=\"node\">\r\n<title>split0</title>\r\n<polygon fill=\"none\" stroke=\"black\" points=\"93,-96 0,-96 0,-60 93,-60 93,-96\"/>\r\n<text text-anchor=\"start\" x=\"8\" y=\"-75.3\" font-family=\"Times New Roman,serif\" font-weight=\"bold\" font-size=\"14.00\">PE</text>\r\n<text text-anchor=\"start\" x=\"27\" y=\"-75.3\" font-family=\"Times New Roman,serif\" font-size=\"14.00\"> ≤ </text>\r\n<text text-anchor=\"start\" x=\"43\" y=\"-75.3\" font-family=\"Times New Roman,serif\" font-weight=\"bold\" font-size=\"14.00\">77.017</text>\r\n</g>\r\n<!-- split2 -->\r\n<g id=\"node2\" class=\"node\">\r\n<title>split2</title>\r\n<polygon fill=\"none\" stroke=\"black\" points=\"260,-116 136,-116 136,-80 260,-80 260,-116\"/>\r\n<text text-anchor=\"start\" x=\"144\" y=\"-95.3\" font-family=\"Times New Roman,serif\" font-weight=\"bold\" font-size=\"14.00\">Turnover</text>\r\n<text text-anchor=\"start\" x=\"202\" y=\"-95.3\" font-family=\"Times New Roman,serif\" font-size=\"14.00\"> ≤ </text>\r\n<text text-anchor=\"start\" x=\"218\" y=\"-95.3\" font-family=\"Times New Roman,serif\" font-weight=\"bold\" font-size=\"14.00\">0.015</text>\r\n</g>\r\n<!-- split0&#45;&gt;split2 -->\r\n<g id=\"edge3\" class=\"edge\">\r\n<title>split0&#45;&gt;split2</title>\r\n<path fill=\"none\" stroke=\"black\" d=\"M93.17,-84.11C103.49,-85.49 114.69,-86.99 125.78,-88.47\"/>\r\n<polygon fill=\"black\" stroke=\"black\" points=\"125.54,-91.97 135.91,-89.83 126.47,-85.03 125.54,-91.97\"/>\r\n<text text-anchor=\"middle\" x=\"113.5\" y=\"-91.8\" font-family=\"Times New Roman,serif\" font-size=\"14.00\">yes</text>\r\n</g>\r\n<!-- split1 -->\r\n<g id=\"node5\" class=\"node\">\r\n<title>split1</title>\r\n<polygon fill=\"none\" stroke=\"black\" points=\"262,-76 134,-76 134,-40 262,-40 262,-76\"/>\r\n<text text-anchor=\"start\" x=\"142\" y=\"-55.3\" font-family=\"Times New Roman,serif\" font-weight=\"bold\" font-size=\"14.00\">Liquidility</text>\r\n<text text-anchor=\"start\" x=\"204\" y=\"-55.3\" font-family=\"Times New Roman,serif\" font-size=\"14.00\"> ≤ </text>\r\n<text text-anchor=\"start\" x=\"220\" y=\"-55.3\" font-family=\"Times New Roman,serif\" font-weight=\"bold\" font-size=\"14.00\">0.000</text>\r\n</g>\r\n<!-- split0&#45;&gt;split1 -->\r\n<g id=\"edge6\" class=\"edge\">\r\n<title>split0&#45;&gt;split1</title>\r\n<path fill=\"none\" stroke=\"black\" d=\"M93.12,-70.57C96.8,-70.02 100.46,-69.49 104,-69 110.34,-68.12 116.93,-67.25 123.54,-66.41\"/>\r\n<polygon fill=\"black\" stroke=\"black\" points=\"124.43,-69.83 133.92,-65.11 123.57,-62.88 124.43,-69.83\"/>\r\n<text text-anchor=\"middle\" x=\"113.5\" y=\"-72.8\" font-family=\"Times New Roman,serif\" font-size=\"14.00\">no</text>\r\n</g>\r\n<!-- leaf0 -->\r\n<g id=\"node3\" class=\"node\">\r\n<title>leaf0</title>\r\n<ellipse fill=\"none\" stroke=\"black\" cx=\"362.79\" cy=\"-138\" rx=\"59.59\" ry=\"18\"/>\r\n<text text-anchor=\"start\" x=\"324.79\" y=\"-135.3\" font-family=\"Times New Roman,serif\" font-size=\"14.00\">leaf 0: </text>\r\n<text text-anchor=\"start\" x=\"361.79\" y=\"-135.3\" font-family=\"Times New Roman,serif\" font-weight=\"bold\" font-size=\"14.00\">&#45;0.270</text>\r\n</g>\r\n<!-- split2&#45;&gt;leaf0 -->\r\n<g id=\"edge1\" class=\"edge\">\r\n<title>split2&#45;&gt;leaf0</title>\r\n<path fill=\"none\" stroke=\"black\" d=\"M260.08,-113.01C275.11,-116.7 291.12,-120.64 305.89,-124.26\"/>\r\n<polygon fill=\"black\" stroke=\"black\" points=\"305.34,-127.73 315.89,-126.72 307.02,-120.94 305.34,-127.73\"/>\r\n<text text-anchor=\"middle\" x=\"282.5\" y=\"-123.8\" font-family=\"Times New Roman,serif\" font-size=\"14.00\">yes</text>\r\n</g>\r\n<!-- leaf3 -->\r\n<g id=\"node4\" class=\"node\">\r\n<title>leaf3</title>\r\n<ellipse fill=\"none\" stroke=\"black\" cx=\"362.79\" cy=\"-98\" rx=\"59.59\" ry=\"18\"/>\r\n<text text-anchor=\"start\" x=\"324.79\" y=\"-95.3\" font-family=\"Times New Roman,serif\" font-size=\"14.00\">leaf 3: </text>\r\n<text text-anchor=\"start\" x=\"361.79\" y=\"-95.3\" font-family=\"Times New Roman,serif\" font-weight=\"bold\" font-size=\"14.00\">&#45;1.187</text>\r\n</g>\r\n<!-- split2&#45;&gt;leaf3 -->\r\n<g id=\"edge2\" class=\"edge\">\r\n<title>split2&#45;&gt;leaf3</title>\r\n<path fill=\"none\" stroke=\"black\" d=\"M260.08,-98C270.68,-98 281.77,-98 292.56,-98\"/>\r\n<polygon fill=\"black\" stroke=\"black\" points=\"292.8,-101.5 302.8,-98 292.8,-94.5 292.8,-101.5\"/>\r\n<text text-anchor=\"middle\" x=\"282.5\" y=\"-101.8\" font-family=\"Times New Roman,serif\" font-size=\"14.00\">no</text>\r\n</g>\r\n<!-- leaf1 -->\r\n<g id=\"node6\" class=\"node\">\r\n<title>leaf1</title>\r\n<ellipse fill=\"none\" stroke=\"black\" cx=\"362.79\" cy=\"-58\" rx=\"56.59\" ry=\"18\"/>\r\n<text text-anchor=\"start\" x=\"327.29\" y=\"-55.3\" font-family=\"Times New Roman,serif\" font-size=\"14.00\">leaf 1: </text>\r\n<text text-anchor=\"start\" x=\"364.29\" y=\"-55.3\" font-family=\"Times New Roman,serif\" font-weight=\"bold\" font-size=\"14.00\">1.257</text>\r\n</g>\r\n<!-- split1&#45;&gt;leaf1 -->\r\n<g id=\"edge4\" class=\"edge\">\r\n<title>split1&#45;&gt;leaf1</title>\r\n<path fill=\"none\" stroke=\"black\" d=\"M262.41,-58C273.48,-58 285.02,-58 296.15,-58\"/>\r\n<polygon fill=\"black\" stroke=\"black\" points=\"296.24,-61.5 306.24,-58 296.24,-54.5 296.24,-61.5\"/>\r\n<text text-anchor=\"middle\" x=\"282.5\" y=\"-61.8\" font-family=\"Times New Roman,serif\" font-size=\"14.00\">yes</text>\r\n</g>\r\n<!-- leaf2 -->\r\n<g id=\"node7\" class=\"node\">\r\n<title>leaf2</title>\r\n<ellipse fill=\"none\" stroke=\"black\" cx=\"362.79\" cy=\"-18\" rx=\"59.59\" ry=\"18\"/>\r\n<text text-anchor=\"start\" x=\"324.79\" y=\"-15.3\" font-family=\"Times New Roman,serif\" font-size=\"14.00\">leaf 2: </text>\r\n<text text-anchor=\"start\" x=\"361.79\" y=\"-15.3\" font-family=\"Times New Roman,serif\" font-weight=\"bold\" font-size=\"14.00\">&#45;0.395</text>\r\n</g>\r\n<!-- split1&#45;&gt;leaf2 -->\r\n<g id=\"edge5\" class=\"edge\">\r\n<title>split1&#45;&gt;leaf2</title>\r\n<path fill=\"none\" stroke=\"black\" d=\"M262.41,-42.42C276.77,-38.89 291.93,-35.17 305.96,-31.72\"/>\r\n<polygon fill=\"black\" stroke=\"black\" points=\"307.07,-35.05 315.95,-29.27 305.4,-28.25 307.07,-35.05\"/>\r\n<text text-anchor=\"middle\" x=\"282.5\" y=\"-42.8\" font-family=\"Times New Roman,serif\" font-size=\"14.00\">no</text>\r\n</g>\r\n</g>\r\n</svg>\r\n"
     },
     "metadata": {},
     "execution_count": 12
    }
   ],
   "source": [
    "lgb.create_tree_digraph(clf,tree_index = 1)"
   ]
  },
  {
   "cell_type": "code",
   "execution_count": 13,
   "metadata": {},
   "outputs": [
    {
     "output_type": "execute_result",
     "data": {
      "text/plain": [
       "<graphviz.dot.Digraph at 0x10f6b459088>"
      ],
      "image/svg+xml": "<?xml version=\"1.0\" encoding=\"UTF-8\" standalone=\"no\"?>\r\n<!DOCTYPE svg PUBLIC \"-//W3C//DTD SVG 1.1//EN\"\r\n \"http://www.w3.org/Graphics/SVG/1.1/DTD/svg11.dtd\">\r\n<!-- Generated by graphviz version 2.47.0 (20210316.0004)\r\n -->\r\n<!-- Pages: 1 -->\r\n<svg width=\"454pt\" height=\"104pt\"\r\n viewBox=\"0.00 0.00 453.59 104.00\" xmlns=\"http://www.w3.org/2000/svg\" xmlns:xlink=\"http://www.w3.org/1999/xlink\">\r\n<g id=\"graph0\" class=\"graph\" transform=\"scale(1 1) rotate(0) translate(4 100)\">\r\n<polygon fill=\"white\" stroke=\"transparent\" points=\"-4,4 -4,-100 449.59,-100 449.59,4 -4,4\"/>\r\n<!-- split0 -->\r\n<g id=\"node1\" class=\"node\">\r\n<title>split0</title>\r\n<polygon fill=\"none\" stroke=\"black\" points=\"122,-76 0,-76 0,-40 122,-40 122,-76\"/>\r\n<text text-anchor=\"start\" x=\"8\" y=\"-55.3\" font-family=\"Times New Roman,serif\" font-weight=\"bold\" font-size=\"14.00\">Volatility</text>\r\n<text text-anchor=\"start\" x=\"64\" y=\"-55.3\" font-family=\"Times New Roman,serif\" font-size=\"14.00\"> ≤ </text>\r\n<text text-anchor=\"start\" x=\"80\" y=\"-55.3\" font-family=\"Times New Roman,serif\" font-weight=\"bold\" font-size=\"14.00\">0.371</text>\r\n</g>\r\n<!-- leaf0 -->\r\n<g id=\"node2\" class=\"node\">\r\n<title>leaf0</title>\r\n<ellipse fill=\"none\" stroke=\"black\" cx=\"224\" cy=\"-78\" rx=\"56.59\" ry=\"18\"/>\r\n<text text-anchor=\"start\" x=\"188.5\" y=\"-75.3\" font-family=\"Times New Roman,serif\" font-size=\"14.00\">leaf 0: </text>\r\n<text text-anchor=\"start\" x=\"225.5\" y=\"-75.3\" font-family=\"Times New Roman,serif\" font-weight=\"bold\" font-size=\"14.00\">0.528</text>\r\n</g>\r\n<!-- split0&#45;&gt;leaf0 -->\r\n<g id=\"edge1\" class=\"edge\">\r\n<title>split0&#45;&gt;leaf0</title>\r\n<path fill=\"none\" stroke=\"black\" d=\"M122.41,-65.5C135.01,-67.07 148.32,-68.72 160.98,-70.3\"/>\r\n<polygon fill=\"black\" stroke=\"black\" points=\"160.61,-73.78 170.97,-71.54 161.47,-66.83 160.61,-73.78\"/>\r\n<text text-anchor=\"middle\" x=\"142.5\" y=\"-71.8\" font-family=\"Times New Roman,serif\" font-size=\"14.00\">yes</text>\r\n</g>\r\n<!-- split1 -->\r\n<g id=\"node3\" class=\"node\">\r\n<title>split1</title>\r\n<polygon fill=\"none\" stroke=\"black\" points=\"285,-56 163,-56 163,-20 285,-20 285,-56\"/>\r\n<text text-anchor=\"start\" x=\"171\" y=\"-35.3\" font-family=\"Times New Roman,serif\" font-weight=\"bold\" font-size=\"14.00\">Volatility</text>\r\n<text text-anchor=\"start\" x=\"227\" y=\"-35.3\" font-family=\"Times New Roman,serif\" font-size=\"14.00\"> ≤ </text>\r\n<text text-anchor=\"start\" x=\"243\" y=\"-35.3\" font-family=\"Times New Roman,serif\" font-weight=\"bold\" font-size=\"14.00\">0.546</text>\r\n</g>\r\n<!-- split0&#45;&gt;split1 -->\r\n<g id=\"edge4\" class=\"edge\">\r\n<title>split0&#45;&gt;split1</title>\r\n<path fill=\"none\" stroke=\"black\" d=\"M122.41,-50.5C132.31,-49.27 142.65,-47.98 152.77,-46.72\"/>\r\n<polygon fill=\"black\" stroke=\"black\" points=\"153.3,-50.19 162.79,-45.48 152.43,-43.24 153.3,-50.19\"/>\r\n<text text-anchor=\"middle\" x=\"142.5\" y=\"-51.8\" font-family=\"Times New Roman,serif\" font-size=\"14.00\">no</text>\r\n</g>\r\n<!-- leaf1 -->\r\n<g id=\"node4\" class=\"node\">\r\n<title>leaf1</title>\r\n<ellipse fill=\"none\" stroke=\"black\" cx=\"385.79\" cy=\"-58\" rx=\"59.59\" ry=\"18\"/>\r\n<text text-anchor=\"start\" x=\"347.79\" y=\"-55.3\" font-family=\"Times New Roman,serif\" font-size=\"14.00\">leaf 1: </text>\r\n<text text-anchor=\"start\" x=\"384.79\" y=\"-55.3\" font-family=\"Times New Roman,serif\" font-weight=\"bold\" font-size=\"14.00\">&#45;0.715</text>\r\n</g>\r\n<!-- split1&#45;&gt;leaf1 -->\r\n<g id=\"edge2\" class=\"edge\">\r\n<title>split1&#45;&gt;leaf1</title>\r\n<path fill=\"none\" stroke=\"black\" d=\"M285.41,-45.56C296.83,-46.99 308.81,-48.49 320.34,-49.93\"/>\r\n<polygon fill=\"black\" stroke=\"black\" points=\"319.98,-53.42 330.34,-51.18 320.85,-46.47 319.98,-53.42\"/>\r\n<text text-anchor=\"middle\" x=\"305.5\" y=\"-52.8\" font-family=\"Times New Roman,serif\" font-size=\"14.00\">yes</text>\r\n</g>\r\n<!-- leaf2 -->\r\n<g id=\"node5\" class=\"node\">\r\n<title>leaf2</title>\r\n<ellipse fill=\"none\" stroke=\"black\" cx=\"385.79\" cy=\"-18\" rx=\"59.59\" ry=\"18\"/>\r\n<text text-anchor=\"start\" x=\"347.79\" y=\"-15.3\" font-family=\"Times New Roman,serif\" font-size=\"14.00\">leaf 2: </text>\r\n<text text-anchor=\"start\" x=\"384.79\" y=\"-15.3\" font-family=\"Times New Roman,serif\" font-weight=\"bold\" font-size=\"14.00\">&#45;0.005</text>\r\n</g>\r\n<!-- split1&#45;&gt;leaf2 -->\r\n<g id=\"edge3\" class=\"edge\">\r\n<title>split1&#45;&gt;leaf2</title>\r\n<path fill=\"none\" stroke=\"black\" d=\"M285.41,-30.44C296.83,-29.01 308.81,-27.51 320.34,-26.07\"/>\r\n<polygon fill=\"black\" stroke=\"black\" points=\"320.85,-29.53 330.34,-24.82 319.98,-22.58 320.85,-29.53\"/>\r\n<text text-anchor=\"middle\" x=\"305.5\" y=\"-31.8\" font-family=\"Times New Roman,serif\" font-size=\"14.00\">no</text>\r\n</g>\r\n</g>\r\n</svg>\r\n"
     },
     "metadata": {},
     "execution_count": 13
    }
   ],
   "source": [
    "lgb.create_tree_digraph(clf,tree_index = 2)"
   ]
  },
  {
   "cell_type": "code",
   "execution_count": 43,
   "metadata": {},
   "outputs": [
    {
     "output_type": "execute_result",
     "data": {
      "text/plain": [
       "<graphviz.dot.Digraph at 0x1ddd27b8c88>"
      ],
      "image/svg+xml": "<?xml version=\"1.0\" encoding=\"UTF-8\" standalone=\"no\"?>\r\n<!DOCTYPE svg PUBLIC \"-//W3C//DTD SVG 1.1//EN\"\r\n \"http://www.w3.org/Graphics/SVG/1.1/DTD/svg11.dtd\">\r\n<!-- Generated by graphviz version 2.47.0 (20210316.0004)\r\n -->\r\n<!-- Pages: 1 -->\r\n<svg width=\"426pt\" height=\"104pt\"\r\n viewBox=\"0.00 0.00 425.68 104.00\" xmlns=\"http://www.w3.org/2000/svg\" xmlns:xlink=\"http://www.w3.org/1999/xlink\">\r\n<g id=\"graph0\" class=\"graph\" transform=\"scale(1 1) rotate(0) translate(4 100)\">\r\n<polygon fill=\"white\" stroke=\"transparent\" points=\"-4,4 -4,-100 421.68,-100 421.68,4 -4,4\"/>\r\n<!-- split0 -->\r\n<g id=\"node1\" class=\"node\">\r\n<title>split0</title>\r\n<polygon fill=\"none\" stroke=\"black\" points=\"103,-48 0,-48 0,-12 103,-12 103,-48\"/>\r\n<text text-anchor=\"start\" x=\"8\" y=\"-27.3\" font-family=\"Times New Roman,serif\" font-weight=\"bold\" font-size=\"14.00\">Beta1</text>\r\n<text text-anchor=\"start\" x=\"45\" y=\"-27.3\" font-family=\"Times New Roman,serif\" font-size=\"14.00\"> ≤ </text>\r\n<text text-anchor=\"start\" x=\"61\" y=\"-27.3\" font-family=\"Times New Roman,serif\" font-weight=\"bold\" font-size=\"14.00\">1.260</text>\r\n</g>\r\n<!-- split1 -->\r\n<g id=\"node2\" class=\"node\">\r\n<title>split1</title>\r\n<polygon fill=\"none\" stroke=\"black\" points=\"249.54,-76 151.54,-76 151.54,-40 249.54,-40 249.54,-76\"/>\r\n<text text-anchor=\"start\" x=\"159.54\" y=\"-55.3\" font-family=\"Times New Roman,serif\" font-weight=\"bold\" font-size=\"14.00\">Cor1</text>\r\n<text text-anchor=\"start\" x=\"191.54\" y=\"-55.3\" font-family=\"Times New Roman,serif\" font-size=\"14.00\"> ≤ </text>\r\n<text text-anchor=\"start\" x=\"207.54\" y=\"-55.3\" font-family=\"Times New Roman,serif\" font-weight=\"bold\" font-size=\"14.00\">0.426</text>\r\n</g>\r\n<!-- split0&#45;&gt;split1 -->\r\n<g id=\"edge3\" class=\"edge\">\r\n<title>split0&#45;&gt;split1</title>\r\n<path fill=\"none\" stroke=\"black\" d=\"M103.1,-39.64C115.43,-41.98 128.71,-44.51 141.35,-46.92\"/>\r\n<polygon fill=\"black\" stroke=\"black\" points=\"140.85,-50.39 151.33,-48.82 142.16,-43.51 140.85,-50.39\"/>\r\n<text text-anchor=\"middle\" x=\"123.5\" y=\"-47.8\" font-family=\"Times New Roman,serif\" font-size=\"14.00\">yes</text>\r\n</g>\r\n<!-- leaf1 -->\r\n<g id=\"node5\" class=\"node\">\r\n<title>leaf1</title>\r\n<ellipse fill=\"none\" stroke=\"black\" cx=\"200.54\" cy=\"-18\" rx=\"56.59\" ry=\"18\"/>\r\n<text text-anchor=\"start\" x=\"165.04\" y=\"-15.3\" font-family=\"Times New Roman,serif\" font-size=\"14.00\">leaf 1: </text>\r\n<text text-anchor=\"start\" x=\"202.04\" y=\"-15.3\" font-family=\"Times New Roman,serif\" font-weight=\"bold\" font-size=\"14.00\">0.432</text>\r\n</g>\r\n<!-- split0&#45;&gt;leaf1 -->\r\n<g id=\"edge4\" class=\"edge\">\r\n<title>split0&#45;&gt;leaf1</title>\r\n<path fill=\"none\" stroke=\"black\" d=\"M103.1,-25.87C113.49,-25.02 124.56,-24.12 135.35,-23.24\"/>\r\n<polygon fill=\"black\" stroke=\"black\" points=\"135.9,-26.71 145.59,-22.4 135.33,-19.73 135.9,-26.71\"/>\r\n<text text-anchor=\"middle\" x=\"123.5\" y=\"-28.8\" font-family=\"Times New Roman,serif\" font-size=\"14.00\">no</text>\r\n</g>\r\n<!-- leaf0 -->\r\n<g id=\"node3\" class=\"node\">\r\n<title>leaf0</title>\r\n<ellipse fill=\"none\" stroke=\"black\" cx=\"357.88\" cy=\"-78\" rx=\"56.59\" ry=\"18\"/>\r\n<text text-anchor=\"start\" x=\"322.38\" y=\"-75.3\" font-family=\"Times New Roman,serif\" font-size=\"14.00\">leaf 0: </text>\r\n<text text-anchor=\"start\" x=\"359.38\" y=\"-75.3\" font-family=\"Times New Roman,serif\" font-weight=\"bold\" font-size=\"14.00\">0.189</text>\r\n</g>\r\n<!-- split1&#45;&gt;leaf0 -->\r\n<g id=\"edge1\" class=\"edge\">\r\n<title>split1&#45;&gt;leaf0</title>\r\n<path fill=\"none\" stroke=\"black\" d=\"M249.84,-64.22C264.1,-66.05 279.9,-68.09 294.89,-70.02\"/>\r\n<polygon fill=\"black\" stroke=\"black\" points=\"294.75,-73.53 305.11,-71.33 295.64,-66.59 294.75,-73.53\"/>\r\n<text text-anchor=\"middle\" x=\"277.59\" y=\"-71.8\" font-family=\"Times New Roman,serif\" font-size=\"14.00\">yes</text>\r\n</g>\r\n<!-- leaf2 -->\r\n<g id=\"node4\" class=\"node\">\r\n<title>leaf2</title>\r\n<ellipse fill=\"none\" stroke=\"black\" cx=\"357.88\" cy=\"-38\" rx=\"59.59\" ry=\"18\"/>\r\n<text text-anchor=\"start\" x=\"319.88\" y=\"-35.3\" font-family=\"Times New Roman,serif\" font-size=\"14.00\">leaf 2: </text>\r\n<text text-anchor=\"start\" x=\"356.88\" y=\"-35.3\" font-family=\"Times New Roman,serif\" font-weight=\"bold\" font-size=\"14.00\">&#45;0.673</text>\r\n</g>\r\n<!-- split1&#45;&gt;leaf2 -->\r\n<g id=\"edge2\" class=\"edge\">\r\n<title>split1&#45;&gt;leaf2</title>\r\n<path fill=\"none\" stroke=\"black\" d=\"M249.84,-51.78C263.32,-50.05 278.17,-48.13 292.42,-46.3\"/>\r\n<polygon fill=\"black\" stroke=\"black\" points=\"293.19,-49.73 302.66,-44.98 292.29,-42.79 293.19,-49.73\"/>\r\n<text text-anchor=\"middle\" x=\"277.59\" y=\"-52.8\" font-family=\"Times New Roman,serif\" font-size=\"14.00\">no</text>\r\n</g>\r\n</g>\r\n</svg>\r\n"
     },
     "metadata": {},
     "execution_count": 43
    }
   ],
   "source": [
    "lgb.create_tree_digraph(clf,tree_index = 3)"
   ]
  },
  {
   "cell_type": "code",
   "execution_count": 23,
   "metadata": {},
   "outputs": [
    {
     "output_type": "execute_result",
     "data": {
      "text/plain": [
       "<lightgbm.basic.Booster at 0x162877a7f48>"
      ]
     },
     "metadata": {},
     "execution_count": 23
    }
   ],
   "source": [
    "clf.save_model('model.txt')"
   ]
  },
  {
   "cell_type": "code",
   "execution_count": null,
   "metadata": {},
   "outputs": [],
   "source": []
  },
  {
   "cell_type": "code",
   "execution_count": 21,
   "metadata": {
    "tags": [
     "outputPrepend"
    ]
   },
   "outputs": [
    {
     "output_type": "stream",
     "name": "stdout",
     "text": [
      "LightGBM] [Warning] No further splits with positive gain, best gain: -inf\n[LightGBM] [Warning] No further splits with positive gain, best gain: -inf\n[25]\tvalid_0's multi_logloss: 0.134911\n[LightGBM] [Warning] No further splits with positive gain, best gain: -inf\n[LightGBM] [Warning] No further splits with positive gain, best gain: -inf\n[LightGBM] [Warning] No further splits with positive gain, best gain: -inf\n[26]\tvalid_0's multi_logloss: 0.131023\n[LightGBM] [Warning] No further splits with positive gain, best gain: -inf\n[LightGBM] [Warning] No further splits with positive gain, best gain: -inf\n[LightGBM] [Warning] No further splits with positive gain, best gain: -inf\n[27]\tvalid_0's multi_logloss: 0.127879\n[LightGBM] [Warning] No further splits with positive gain, best gain: -inf\n[LightGBM] [Warning] No further splits with positive gain, best gain: -inf\n[LightGBM] [Warning] No further splits with positive gain, best gain: -inf\n[28]\tvalid_0's multi_logloss: 0.12488\n[LightGBM] [Warning] No further splits with positive gain, best gain: -inf\n[LightGBM] [Warning] No further splits with positive gain, best gain: -inf\n[LightGBM] [Warning] No further splits with positive gain, best gain: -inf\n[29]\tvalid_0's multi_logloss: 0.121908\n[LightGBM] [Warning] No further splits with positive gain, best gain: -inf\n[LightGBM] [Warning] No further splits with positive gain, best gain: -inf\n[LightGBM] [Warning] No further splits with positive gain, best gain: -inf\n[30]\tvalid_0's multi_logloss: 0.120025\n[LightGBM] [Warning] No further splits with positive gain, best gain: -inf\n[LightGBM] [Warning] No further splits with positive gain, best gain: -inf\n[LightGBM] [Warning] No further splits with positive gain, best gain: -inf\n[31]\tvalid_0's multi_logloss: 0.119322\n[LightGBM] [Warning] No further splits with positive gain, best gain: -inf\n[LightGBM] [Warning] No further splits with positive gain, best gain: -inf\n[LightGBM] [Warning] No further splits with positive gain, best gain: -inf\n[32]\tvalid_0's multi_logloss: 0.117757\n[LightGBM] [Warning] No further splits with positive gain, best gain: -inf\n[LightGBM] [Warning] No further splits with positive gain, best gain: -inf\n[LightGBM] [Warning] No further splits with positive gain, best gain: -inf\n[33]\tvalid_0's multi_logloss: 0.115491\n[LightGBM] [Warning] No further splits with positive gain, best gain: -inf\n[LightGBM] [Warning] No further splits with positive gain, best gain: -inf\n[LightGBM] [Warning] No further splits with positive gain, best gain: -inf\n[34]\tvalid_0's multi_logloss: 0.112379\n[LightGBM] [Warning] No further splits with positive gain, best gain: -inf\n[LightGBM] [Warning] No further splits with positive gain, best gain: -inf\n[LightGBM] [Warning] No further splits with positive gain, best gain: -inf\n[35]\tvalid_0's multi_logloss: 0.109771\n[LightGBM] [Warning] No further splits with positive gain, best gain: -inf\n[LightGBM] [Warning] No further splits with positive gain, best gain: -inf\n[LightGBM] [Warning] No further splits with positive gain, best gain: -inf\n[36]\tvalid_0's multi_logloss: 0.10746\n[LightGBM] [Warning] No further splits with positive gain, best gain: -inf\n[LightGBM] [Warning] No further splits with positive gain, best gain: -inf\n[LightGBM] [Warning] No further splits with positive gain, best gain: -inf\n[37]\tvalid_0's multi_logloss: 0.105171\n[LightGBM] [Warning] No further splits with positive gain, best gain: -inf\n[LightGBM] [Warning] No further splits with positive gain, best gain: -inf\n[LightGBM] [Warning] No further splits with positive gain, best gain: -inf\n[38]\tvalid_0's multi_logloss: 0.103318\n[LightGBM] [Warning] No further splits with positive gain, best gain: -inf\n[LightGBM] [Warning] No further splits with positive gain, best gain: -inf\n[LightGBM] [Warning] No further splits with positive gain, best gain: -inf\n[39]\tvalid_0's multi_logloss: 0.102764\n[LightGBM] [Warning] No further splits with positive gain, best gain: -inf\n[LightGBM] [Warning] No further splits with positive gain, best gain: -inf\n[LightGBM] [Warning] No further splits with positive gain, best gain: -inf\n[40]\tvalid_0's multi_logloss: 0.100642\n[LightGBM] [Warning] No further splits with positive gain, best gain: -inf\n[LightGBM] [Warning] No further splits with positive gain, best gain: -inf\n[LightGBM] [Warning] No further splits with positive gain, best gain: -inf\n[41]\tvalid_0's multi_logloss: 0.0995331\n[LightGBM] [Warning] No further splits with positive gain, best gain: -inf\n[LightGBM] [Warning] No further splits with positive gain, best gain: -inf\n[LightGBM] [Warning] No further splits with positive gain, best gain: -inf\n[42]\tvalid_0's multi_logloss: 0.0982805\n[LightGBM] [Warning] No further splits with positive gain, best gain: -inf\n[LightGBM] [Warning] No further splits with positive gain, best gain: -inf\n[LightGBM] [Warning] No further splits with positive gain, best gain: -inf\n[43]\tvalid_0's multi_logloss: 0.0984879\n[LightGBM] [Warning] No further splits with positive gain, best gain: -inf\n[LightGBM] [Warning] No further splits with positive gain, best gain: -inf\n[LightGBM] [Warning] No further splits with positive gain, best gain: -inf\n[44]\tvalid_0's multi_logloss: 0.0985568\n[LightGBM] [Warning] No further splits with positive gain, best gain: -inf\n[LightGBM] [Warning] No further splits with positive gain, best gain: -inf\n[LightGBM] [Warning] No further splits with positive gain, best gain: -inf\n[45]\tvalid_0's multi_logloss: 0.0977138\n[LightGBM] [Warning] No further splits with positive gain, best gain: -inf\n[LightGBM] [Warning] No further splits with positive gain, best gain: -inf\n[LightGBM] [Warning] No further splits with positive gain, best gain: -inf\n[46]\tvalid_0's multi_logloss: 0.0979895\n[LightGBM] [Warning] No further splits with positive gain, best gain: -inf\n[LightGBM] [Warning] No further splits with positive gain, best gain: -inf\n[LightGBM] [Warning] No further splits with positive gain, best gain: -inf\n[47]\tvalid_0's multi_logloss: 0.0981605\n[LightGBM] [Warning] No further splits with positive gain, best gain: -inf\n[LightGBM] [Warning] No further splits with positive gain, best gain: -inf\n[LightGBM] [Warning] No further splits with positive gain, best gain: -inf\n[48]\tvalid_0's multi_logloss: 0.0984792\n[LightGBM] [Warning] No further splits with positive gain, best gain: -inf\n[LightGBM] [Warning] No further splits with positive gain, best gain: -inf\n[LightGBM] [Warning] No further splits with positive gain, best gain: -inf\n[49]\tvalid_0's multi_logloss: 0.0987859\n[LightGBM] [Warning] No further splits with positive gain, best gain: -inf\n[LightGBM] [Warning] No further splits with positive gain, best gain: -inf\n[LightGBM] [Warning] No further splits with positive gain, best gain: -inf\n[50]\tvalid_0's multi_logloss: 0.0979342\n[LightGBM] [Warning] No further splits with positive gain, best gain: -inf\n[LightGBM] [Warning] No further splits with positive gain, best gain: -inf\n[LightGBM] [Warning] No further splits with positive gain, best gain: -inf\n[51]\tvalid_0's multi_logloss: 0.0984896\n[LightGBM] [Warning] No further splits with positive gain, best gain: -inf\n[LightGBM] [Warning] No further splits with positive gain, best gain: -inf\n[LightGBM] [Warning] No further splits with positive gain, best gain: -inf\n[52]\tvalid_0's multi_logloss: 0.0989189\n[LightGBM] [Warning] No further splits with positive gain, best gain: -inf\n[LightGBM] [Warning] No further splits with positive gain, best gain: -inf\n[LightGBM] [Warning] No further splits with positive gain, best gain: -inf\n[53]\tvalid_0's multi_logloss: 0.0991239\n[LightGBM] [Warning] No further splits with positive gain, best gain: -inf\n[LightGBM] [Warning] No further splits with positive gain, best gain: -inf\n[LightGBM] [Warning] No further splits with positive gain, best gain: -inf\n[54]\tvalid_0's multi_logloss: 0.0996264\n[LightGBM] [Warning] No further splits with positive gain, best gain: -inf\n[LightGBM] [Warning] No further splits with positive gain, best gain: -inf\n[LightGBM] [Warning] No further splits with positive gain, best gain: -inf\n[55]\tvalid_0's multi_logloss: 0.100161\n[LightGBM] [Warning] No further splits with positive gain, best gain: -inf\n[LightGBM] [Warning] No further splits with positive gain, best gain: -inf\n[LightGBM] [Warning] No further splits with positive gain, best gain: -inf\n[56]\tvalid_0's multi_logloss: 0.100779\n[LightGBM] [Warning] No further splits with positive gain, best gain: -inf\n[LightGBM] [Warning] No further splits with positive gain, best gain: -inf\n[LightGBM] [Warning] No further splits with positive gain, best gain: -inf\n[57]\tvalid_0's multi_logloss: 0.0998667\n[LightGBM] [Warning] No further splits with positive gain, best gain: -inf\n[LightGBM] [Warning] No further splits with positive gain, best gain: -inf\n[LightGBM] [Warning] No further splits with positive gain, best gain: -inf\n[58]\tvalid_0's multi_logloss: 0.100758\n[LightGBM] [Warning] No further splits with positive gain, best gain: -inf\n[LightGBM] [Warning] No further splits with positive gain, best gain: -inf\n[LightGBM] [Warning] No further splits with positive gain, best gain: -inf\n[59]\tvalid_0's multi_logloss: 0.100418\n[LightGBM] [Warning] No further splits with positive gain, best gain: -inf\n[LightGBM] [Warning] No further splits with positive gain, best gain: -inf\n[LightGBM] [Warning] No further splits with positive gain, best gain: -inf\n[60]\tvalid_0's multi_logloss: 0.100646\n[LightGBM] [Warning] No further splits with positive gain, best gain: -inf\n[LightGBM] [Warning] No further splits with positive gain, best gain: -inf\n[LightGBM] [Warning] No further splits with positive gain, best gain: -inf\n[61]\tvalid_0's multi_logloss: 0.100361\n[LightGBM] [Warning] No further splits with positive gain, best gain: -inf\n[LightGBM] [Warning] No further splits with positive gain, best gain: -inf\n[LightGBM] [Warning] No further splits with positive gain, best gain: -inf\n[62]\tvalid_0's multi_logloss: 0.100605\n[LightGBM] [Warning] No further splits with positive gain, best gain: -inf\n[LightGBM] [Warning] No further splits with positive gain, best gain: -inf\n[LightGBM] [Warning] No further splits with positive gain, best gain: -inf\n[63]\tvalid_0's multi_logloss: 0.100841\n[LightGBM] [Warning] No further splits with positive gain, best gain: -inf\n[LightGBM] [Warning] No further splits with positive gain, best gain: -inf\n[LightGBM] [Warning] No further splits with positive gain, best gain: -inf\n[64]\tvalid_0's multi_logloss: 0.101428\n[LightGBM] [Warning] No further splits with positive gain, best gain: -inf\n[LightGBM] [Warning] No further splits with positive gain, best gain: -inf\n[LightGBM] [Warning] No further splits with positive gain, best gain: -inf\n[65]\tvalid_0's multi_logloss: 0.101986\n[LightGBM] [Warning] No further splits with positive gain, best gain: -inf\n[LightGBM] [Warning] No further splits with positive gain, best gain: -inf\n[LightGBM] [Warning] No further splits with positive gain, best gain: -inf\n[66]\tvalid_0's multi_logloss: 0.102388\n[LightGBM] [Warning] No further splits with positive gain, best gain: -inf\n[LightGBM] [Warning] No further splits with positive gain, best gain: -inf\n[LightGBM] [Warning] No further splits with positive gain, best gain: -inf\n[67]\tvalid_0's multi_logloss: 0.103417\n[LightGBM] [Warning] No further splits with positive gain, best gain: -inf\n[LightGBM] [Warning] No further splits with positive gain, best gain: -inf\n[LightGBM] [Warning] No further splits with positive gain, best gain: -inf\n[68]\tvalid_0's multi_logloss: 0.103729\n[LightGBM] [Warning] No further splits with positive gain, best gain: -inf\n[LightGBM] [Warning] No further splits with positive gain, best gain: -inf\n[LightGBM] [Warning] No further splits with positive gain, best gain: -inf\n[69]\tvalid_0's multi_logloss: 0.10453\n[LightGBM] [Warning] No further splits with positive gain, best gain: -inf\n[LightGBM] [Warning] No further splits with positive gain, best gain: -inf\n[LightGBM] [Warning] No further splits with positive gain, best gain: -inf\n[70]\tvalid_0's multi_logloss: 0.103923\n[LightGBM] [Warning] No further splits with positive gain, best gain: -inf\n[LightGBM] [Warning] No further splits with positive gain, best gain: -inf\n[LightGBM] [Warning] No further splits with positive gain, best gain: -inf\n[71]\tvalid_0's multi_logloss: 0.104362\n[LightGBM] [Warning] No further splits with positive gain, best gain: -inf\n[LightGBM] [Warning] No further splits with positive gain, best gain: -inf\n[LightGBM] [Warning] No further splits with positive gain, best gain: -inf\n[72]\tvalid_0's multi_logloss: 0.104598\n[LightGBM] [Warning] No further splits with positive gain, best gain: -inf\n[LightGBM] [Warning] No further splits with positive gain, best gain: -inf\n[LightGBM] [Warning] No further splits with positive gain, best gain: -inf\n[73]\tvalid_0's multi_logloss: 0.104999\n[LightGBM] [Warning] No further splits with positive gain, best gain: -inf\n[LightGBM] [Warning] No further splits with positive gain, best gain: -inf\n[LightGBM] [Warning] No further splits with positive gain, best gain: -inf\n[74]\tvalid_0's multi_logloss: 0.10567\n[LightGBM] [Warning] No further splits with positive gain, best gain: -inf\n[LightGBM] [Warning] No further splits with positive gain, best gain: -inf\n[LightGBM] [Warning] No further splits with positive gain, best gain: -inf\n[75]\tvalid_0's multi_logloss: 0.105948\n[LightGBM] [Warning] No further splits with positive gain, best gain: -inf\n[LightGBM] [Warning] No further splits with positive gain, best gain: -inf\n[LightGBM] [Warning] No further splits with positive gain, best gain: -inf\n[76]\tvalid_0's multi_logloss: 0.106422\n[LightGBM] [Warning] No further splits with positive gain, best gain: -inf\n[LightGBM] [Warning] No further splits with positive gain, best gain: -inf\n[LightGBM] [Warning] No further splits with positive gain, best gain: -inf\n[77]\tvalid_0's multi_logloss: 0.107452\n[LightGBM] [Warning] No further splits with positive gain, best gain: -inf\n[LightGBM] [Warning] No further splits with positive gain, best gain: -inf\n[LightGBM] [Warning] No further splits with positive gain, best gain: -inf\n[78]\tvalid_0's multi_logloss: 0.107009\n[LightGBM] [Warning] No further splits with positive gain, best gain: -inf\n[LightGBM] [Warning] No further splits with positive gain, best gain: -inf\n[LightGBM] [Warning] No further splits with positive gain, best gain: -inf\n[79]\tvalid_0's multi_logloss: 0.107283\n[LightGBM] [Warning] No further splits with positive gain, best gain: -inf\n[LightGBM] [Warning] No further splits with positive gain, best gain: -inf\n[LightGBM] [Warning] No further splits with positive gain, best gain: -inf\n[80]\tvalid_0's multi_logloss: 0.107468\n[LightGBM] [Warning] No further splits with positive gain, best gain: -inf\n[LightGBM] [Warning] No further splits with positive gain, best gain: -inf\n[LightGBM] [Warning] No further splits with positive gain, best gain: -inf\n[81]\tvalid_0's multi_logloss: 0.107673\n[LightGBM] [Warning] No further splits with positive gain, best gain: -inf\n[LightGBM] [Warning] No further splits with positive gain, best gain: -inf\n[LightGBM] [Warning] No further splits with positive gain, best gain: -inf\n[82]\tvalid_0's multi_logloss: 0.107633\n[LightGBM] [Warning] No further splits with positive gain, best gain: -inf\n[LightGBM] [Warning] No further splits with positive gain, best gain: -inf\n[LightGBM] [Warning] No further splits with positive gain, best gain: -inf\n[83]\tvalid_0's multi_logloss: 0.107748\n[LightGBM] [Warning] No further splits with positive gain, best gain: -inf\n[LightGBM] [Warning] No further splits with positive gain, best gain: -inf\n[LightGBM] [Warning] No further splits with positive gain, best gain: -inf\n[84]\tvalid_0's multi_logloss: 0.107963\n[LightGBM] [Warning] No further splits with positive gain, best gain: -inf\n[LightGBM] [Warning] No further splits with positive gain, best gain: -inf\n[LightGBM] [Warning] No further splits with positive gain, best gain: -inf\n[85]\tvalid_0's multi_logloss: 0.108322\n[LightGBM] [Warning] No further splits with positive gain, best gain: -inf\n[LightGBM] [Warning] No further splits with positive gain, best gain: -inf\n[LightGBM] [Warning] No further splits with positive gain, best gain: -inf\n[86]\tvalid_0's multi_logloss: 0.108704\n[LightGBM] [Warning] No further splits with positive gain, best gain: -inf\n[LightGBM] [Warning] No further splits with positive gain, best gain: -inf\n[LightGBM] [Warning] No further splits with positive gain, best gain: -inf\n[87]\tvalid_0's multi_logloss: 0.108919\n[LightGBM] [Warning] No further splits with positive gain, best gain: -inf\n[LightGBM] [Warning] No further splits with positive gain, best gain: -inf\n[LightGBM] [Warning] No further splits with positive gain, best gain: -inf\n[88]\tvalid_0's multi_logloss: 0.109201\n[LightGBM] [Warning] No further splits with positive gain, best gain: -inf\n[LightGBM] [Warning] No further splits with positive gain, best gain: -inf\n[LightGBM] [Warning] No further splits with positive gain, best gain: -inf\n[89]\tvalid_0's multi_logloss: 0.109434\n[LightGBM] [Warning] No further splits with positive gain, best gain: -inf\n[LightGBM] [Warning] No further splits with positive gain, best gain: -inf\n[LightGBM] [Warning] No further splits with positive gain, best gain: -inf\n[90]\tvalid_0's multi_logloss: 0.110129\n[LightGBM] [Warning] No further splits with positive gain, best gain: -inf\n[LightGBM] [Warning] No further splits with positive gain, best gain: -inf\n[LightGBM] [Warning] No further splits with positive gain, best gain: -inf\n[91]\tvalid_0's multi_logloss: 0.110902\n[LightGBM] [Warning] No further splits with positive gain, best gain: -inf\n[LightGBM] [Warning] No further splits with positive gain, best gain: -inf\n[LightGBM] [Warning] No further splits with positive gain, best gain: -inf\n[92]\tvalid_0's multi_logloss: 0.111263\n[LightGBM] [Warning] No further splits with positive gain, best gain: -inf\n[LightGBM] [Warning] No further splits with positive gain, best gain: -inf\n[LightGBM] [Warning] No further splits with positive gain, best gain: -inf\n[93]\tvalid_0's multi_logloss: 0.111811\n[LightGBM] [Warning] No further splits with positive gain, best gain: -inf\n[LightGBM] [Warning] No further splits with positive gain, best gain: -inf\n[LightGBM] [Warning] No further splits with positive gain, best gain: -inf\n[94]\tvalid_0's multi_logloss: 0.112174\n[LightGBM] [Warning] No further splits with positive gain, best gain: -inf\n[LightGBM] [Warning] No further splits with positive gain, best gain: -inf\n[LightGBM] [Warning] No further splits with positive gain, best gain: -inf\n[95]\tvalid_0's multi_logloss: 0.113105\n[LightGBM] [Warning] No further splits with positive gain, best gain: -inf\n[LightGBM] [Warning] No further splits with positive gain, best gain: -inf\n[LightGBM] [Warning] No further splits with positive gain, best gain: -inf\n[96]\tvalid_0's multi_logloss: 0.113678\n[LightGBM] [Warning] No further splits with positive gain, best gain: -inf\n[LightGBM] [Warning] No further splits with positive gain, best gain: -inf\n[LightGBM] [Warning] No further splits with positive gain, best gain: -inf\n[97]\tvalid_0's multi_logloss: 0.114575\n[LightGBM] [Warning] No further splits with positive gain, best gain: -inf\n[LightGBM] [Warning] No further splits with positive gain, best gain: -inf\n[LightGBM] [Warning] No further splits with positive gain, best gain: -inf\n[98]\tvalid_0's multi_logloss: 0.114837\n[LightGBM] [Warning] No further splits with positive gain, best gain: -inf\n[LightGBM] [Warning] No further splits with positive gain, best gain: -inf\n[LightGBM] [Warning] No further splits with positive gain, best gain: -inf\n[99]\tvalid_0's multi_logloss: 0.114595\n[LightGBM] [Warning] No further splits with positive gain, best gain: -inf\n[LightGBM] [Warning] No further splits with positive gain, best gain: -inf\n[LightGBM] [Warning] No further splits with positive gain, best gain: -inf\n[100]\tvalid_0's multi_logloss: 0.114359\n"
     ]
    }
   ],
   "source": [
    "import lightgbm as lgb\n",
    "from sklearn import datasets\n",
    "from sklearn.model_selection import train_test_split\n",
    "import numpy as np\n",
    "from sklearn.metrics import roc_auc_score, accuracy_score\n",
    "\n",
    "# 加载数据\n",
    "iris = datasets.load_iris()\n",
    "\n",
    "# 划分训练集和测试集\n",
    "X_train, X_test, y_train, y_test = train_test_split(iris.data, iris.target, test_size=0.3)\n",
    "\n",
    "# 转换为Dataset数据格式\n",
    "train_data = lgb.Dataset(X_train, label=y_train)\n",
    "validation_data = lgb.Dataset(X_test, label=y_test)\n",
    "\n",
    "# 参数\n",
    "params = {\n",
    "    'learning_rate': 0.1,\n",
    "    'lambda_l1': 0.1,\n",
    "    'lambda_l2': 0.2,\n",
    "    'max_depth': 4,\n",
    "    'objective': 'multiclass',  # 目标函数\n",
    "    'num_class': 3,\n",
    "}\n",
    "\n",
    "# 模型训练\n",
    "gbm = lgb.train(params, train_data, valid_sets=[validation_data])\n",
    "\n",
    "# 模型预测\n",
    "y_pred = gbm.predict(X_test)\n"
   ]
  },
  {
   "cell_type": "code",
   "execution_count": null,
   "metadata": {},
   "outputs": [],
   "source": [
    "y_pred = [list(x).index(max(x)) for x in y_pred]\n",
    "print(y_pred)\n",
    "\n",
    "# 模型评估\n",
    "print(accuracy_score(y_test, y_pred))"
   ]
  }
 ]
}